{
 "cells": [
  {
   "cell_type": "code",
   "execution_count": 66,
   "metadata": {},
   "outputs": [],
   "source": [
    "from huawei_graph_tool import my_random_circuit\n",
    "from mindquantum.core.circuit import Circuit\n",
    "from mindquantum.simulator import Simulator\n",
    "import numpy as np\n",
    "from mindquantum.core.operators import Hamiltonian,QubitOperator"
   ]
  },
  {
   "cell_type": "code",
   "execution_count": 69,
   "metadata": {},
   "outputs": [
    {
     "data": {
      "text/plain": [
       "array([0.+0.j, 0.+0.j, 0.+0.j, ..., 0.+0.j, 0.+0.j, 0.+0.j])"
      ]
     },
     "execution_count": 69,
     "metadata": {},
     "output_type": "execute_result"
    }
   ],
   "source": [
    "cir = my_random_circuit(n_qubits=16,gate_num=40)\n",
    "pr = np.random.rand(len(cir.params_name))\n",
    "cir = cir.apply_value(dict(zip(cir.params_name,pr)))\n",
    "sim = Simulator('mqvector',16)\n",
    "sim.apply_circuit(cir)\n",
    "sim.get_qs()"
   ]
  },
  {
   "cell_type": "code",
   "execution_count": 71,
   "metadata": {},
   "outputs": [
    {
     "data": {
      "text/plain": [
       "(65536,)"
      ]
     },
     "execution_count": 71,
     "metadata": {},
     "output_type": "execute_result"
    }
   ],
   "source": [
    "sim.apply_circuit(cir)\n",
    "ham = Hamiltonian(QubitOperator('Z0 Y1', 0.3))\n",
    "result = sim.get_expectation(hamiltonian=ham,circ_left=cir)\n",
    "sim.get_qs().shape"
   ]
  },
  {
   "cell_type": "code",
   "execution_count": 64,
   "metadata": {},
   "outputs": [
    {
     "data": {
      "text/plain": [
       "(0.00028837087158293715+4.352095324429785e-05j)"
      ]
     },
     "execution_count": 64,
     "metadata": {},
     "output_type": "execute_result"
    }
   ],
   "source": [
    "result "
   ]
  },
  {
   "cell_type": "code",
   "execution_count": null,
   "metadata": {},
   "outputs": [],
   "source": []
  }
 ],
 "metadata": {
  "kernelspec": {
   "display_name": "MindSpore",
   "language": "python",
   "name": "python3"
  },
  "language_info": {
   "codemirror_mode": {
    "name": "ipython",
    "version": 3
   },
   "file_extension": ".py",
   "mimetype": "text/x-python",
   "name": "python",
   "nbconvert_exporter": "python",
   "pygments_lexer": "ipython3",
   "version": "3.9.19"
  }
 },
 "nbformat": 4,
 "nbformat_minor": 2
}
