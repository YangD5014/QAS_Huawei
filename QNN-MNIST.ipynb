{
 "cells": [
  {
   "cell_type": "code",
   "execution_count": 2,
   "metadata": {},
   "outputs": [],
   "source": [
    "import numpy as np                                          \n",
    "from mindquantum.core.circuit import Circuit                \n",
    "from mindquantum.core.gates import H, RX, RY, RZ,X    \n",
    "from mindquantum.core.parameterresolver import PRGenerator  \n",
    "from mindquantum.simulator import Simulator\n",
    "from sklearn.datasets import fetch_openml\n",
    "import matplotlib.pyplot as plt\n",
    "from sklearn.decomposition import PCA\n",
    "from sklearn.model_selection import train_test_split   \n",
    "from mindquantum.algorithm.library import amplitude_encoder\n",
    "from mindquantum.algorithm.nisq import HardwareEfficientAnsatz     \n",
    "from mindquantum.core.operators import QubitOperator           # 导入QubitOperator模块，用于构造泡利算符\n",
    "from mindquantum.core.operators import Hamiltonian             # 导入Hamiltonian模块，用于构建哈密顿量\n",
    "import mindspore as ms                                                                         # 导入mindspore库并简写为ms\n",
    "from mindquantum.framework import MQLayer                                                      # 导入MQLayer\n",
    "# 导入HardwareEfficientAnsatz\n",
    "from mindquantum.core.gates import RY           \n",
    "import torch\n",
    "from torchvision import datasets, transforms# 导入量子门RY\n",
    "from scipy.ndimage import zoom\n",
    "import random"
   ]
  },
  {
   "cell_type": "code",
   "execution_count": 3,
   "metadata": {},
   "outputs": [
    {
     "name": "stdout",
     "output_type": "stream",
     "text": [
      "torch.Size([2409, 28, 28]) torch.Size([2409])\n"
     ]
    }
   ],
   "source": [
    "# 定义数据预处理\n",
    "transform = transforms.Compose([\n",
    "    transforms.ToTensor()\n",
    "])\n",
    "np.random.seed(10)\n",
    "def filter_3_and_6(data):\n",
    "    images, labels = data\n",
    "    mask = (labels == 3) | (labels == 6)\n",
    "    return images[mask], labels[mask]\n",
    "\n",
    "# 下载和加载 MNIST 数据集\n",
    "mnist_dataset = datasets.MNIST(root='./data', train=True, download=True, transform=None)\n",
    "filtered_data = filter_3_and_6((mnist_dataset.data, mnist_dataset.targets))\n",
    "X_data, y = filtered_data  # X 图像数据 y 标签\n",
    "\n",
    "# 分别对标签为 3 和 6 的数据进行随机抽样\n",
    "def sample_data(X, y, label, sample_ratio=0.2):\n",
    "    label_mask = (y == label)\n",
    "    X_label = X[label_mask]\n",
    "    y_label = y[label_mask]\n",
    "    \n",
    "    sample_size = int(len(y_label) * sample_ratio)\n",
    "    sample_indices = np.random.choice(len(y_label), sample_size, replace=False)\n",
    "    \n",
    "    return X_label[sample_indices], y_label[sample_indices]\n",
    "\n",
    "X_data_3, y_data_3 = sample_data(X_data, y, label=3, sample_ratio=0.2)\n",
    "X_data_6, y_data_6 = sample_data(X_data, y, label=6, sample_ratio=0.2)\n",
    "\n",
    "# 合并抽样后的数据\n",
    "X_sampled = torch.cat((X_data_3, X_data_6), dim=0)\n",
    "y_sampled = torch.cat((y_data_3, y_data_6), dim=0)\n",
    "\n",
    "# 打印抽样后的数据形状以验证结果\n",
    "print(X_sampled.shape, y_sampled.shape)"
   ]
  },
  {
   "cell_type": "code",
   "execution_count": null,
   "metadata": {},
   "outputs": [],
   "source": [
    "def amplitude_param(pixels):\n",
    "    param_rd = []\n",
    "    _, parameterResolver = amplitude_encoder(pixels, 8)   \n",
    "    for _, param in parameterResolver.items():\n",
    "        param_rd.append(param)\n",
    "    param_rd = np.array(param_rd)\n",
    "    return param_rd\n",
    "\n",
    "# 将幅度转为编码线路参数，幅度shape(256,)，参数shape(255,)\n",
    "train_param = np.array([amplitude_param(i) for i in train_pixels ])\n",
    "test_param = np.array([amplitude_param(i) for i in test_pixels ])"
   ]
  }
 ],
 "metadata": {
  "kernelspec": {
   "display_name": "MindSpore",
   "language": "python",
   "name": "python3"
  },
  "language_info": {
   "codemirror_mode": {
    "name": "ipython",
    "version": 3
   },
   "file_extension": ".py",
   "mimetype": "text/x-python",
   "name": "python",
   "nbconvert_exporter": "python",
   "pygments_lexer": "ipython3",
   "version": "3.9.19"
  }
 },
 "nbformat": 4,
 "nbformat_minor": 2
}
