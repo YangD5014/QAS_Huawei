{
 "cells": [
  {
   "cell_type": "code",
   "execution_count": 1,
   "metadata": {},
   "outputs": [
    {
     "name": "stdout",
     "output_type": "stream",
     "text": [
      "The gradient of the function at x=2.0 is 7.0\n"
     ]
    }
   ],
   "source": [
    "import jax\n",
    "import jax.numpy as jnp\n",
    "\n",
    "# 定义一个标量函数\n",
    "def scalar_function(x):\n",
    "    return x**2 + 3*x + 2\n",
    "\n",
    "# 计算该函数的梯度\n",
    "grad_function = jax.grad(scalar_function)\n",
    "\n",
    "# 测试梯度函数\n",
    "x = 2.0\n",
    "gradient = grad_function(x)\n",
    "print(f\"The gradient of the function at x={x} is {gradient}\")"
   ]
  },
  {
   "cell_type": "code",
   "execution_count": 3,
   "metadata": {},
   "outputs": [
    {
     "name": "stdout",
     "output_type": "stream",
     "text": [
      "The gradient of the function at (x=2.0, y=3.0) with respect to x is 7.0\n",
      "The gradient of the function at (x=2.0, y=3.0) with respect to y is 10.0\n"
     ]
    }
   ],
   "source": [
    "import jax\n",
    "import jax.numpy as jnp\n",
    "\n",
    "# 定义一个多元函数\n",
    "def multivariable_function(x, y):\n",
    "    return x**2 + y**2 + 3*x + 4*y + 2\n",
    "\n",
    "# 计算该函数对 x 和 y 的梯度\n",
    "grad_function_x = jax.grad(multivariable_function, argnums=0)\n",
    "grad_function_y = jax.grad(multivariable_function, argnums=1)\n",
    "\n",
    "# 测试梯度函数\n",
    "x = 2.0\n",
    "y = 3.0\n",
    "gradient_x = grad_function_x(x, y)\n",
    "gradient_y = grad_function_y(x, y)\n",
    "print(f\"The gradient of the function at (x={x}, y={y}) with respect to x is {gradient_x}\")\n",
    "print(f\"The gradient of the function at (x={x}, y={y}) with respect to y is {gradient_y}\")"
   ]
  }
 ],
 "metadata": {
  "kernelspec": {
   "display_name": "MindSpore",
   "language": "python",
   "name": "python3"
  },
  "language_info": {
   "codemirror_mode": {
    "name": "ipython",
    "version": 3
   },
   "file_extension": ".py",
   "mimetype": "text/x-python",
   "name": "python",
   "nbconvert_exporter": "python",
   "pygments_lexer": "ipython3",
   "version": "3.9.19"
  }
 },
 "nbformat": 4,
 "nbformat_minor": 2
}
