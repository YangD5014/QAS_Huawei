{
 "cells": [
  {
   "cell_type": "code",
   "execution_count": null,
   "metadata": {},
   "outputs": [],
   "source": [
    "def Mindspore_ansatz(Structure_p:np.array,n_layer:int,n_qbits:int=8):\n",
    "    \"\"\"\n",
    "    和 DQAS 文章描述的一致，生成权重线路\n",
    "    Structure_p:np.array DQAS中的权重参数,\n",
    "    Ansatz_p:np.array  DQAS中的Ansatz参数,\n",
    "    \n",
    "    \"\"\"\n",
    "    softmax = ops.Softmax()\n",
    "    my_stp = softmax(Tensor(Structure_p, ms.float32))\n",
    "    \n",
    "    prg = PRGenerator('encoder')\n",
    "    nqbits = n_qbits\n",
    "    encoder = Circuit()\n",
    "    encoder += UN(H, nqbits)                                 \n",
    "    for i in range(nqbits):                                  \n",
    "        encoder += RY(prg.new()).on(i)                 \n",
    "        \n",
    "    ansatz = Circuit()\n",
    "    pr_gen = PRGenerator('ansatz')\n",
    "    #print(my_stp.shape)\n",
    "    for i in range(n_layer):\n",
    "        paramertized_part_count=0\n",
    "        for index_op,each_op in enumerate(unbound_opeartor_pool):\n",
    "            #print(my_stp[i,index_op])\n",
    "            ansatz += TimeEvolution(QubitOperator(terms=each_op,coefficient=pr_gen.new()),time=float(my_stp[i,index_op])).circuit\n",
    "            paramertized_part_count+=1\n",
    "            \n",
    "        # for index_op,each_op in enumerate(bound_opeartor_pool):\n",
    "        #     op = GroupedPauli(each_op)\n",
    "        #     tmp_cir = Circuit([GroupedPauli(each_op).on(range(n_qbits))])\n",
    "        #     matrix = tmp_cir.matrix()\n",
    "        #     ansatz += UnivMathGate(matrix_value=matrix*float(my_stp[i,index_op+paramertized_part_count]),name=f'{my_stp[i,index_op+paramertized_part_count]}*{op.pauli_string}').on(range(n_qbits))  \n",
    "    \n",
    "    finnal_ansatz = encoder.as_encoder() + ansatz.as_ansatz()\n",
    "    return finnal_ansatz"
   ]
  },
  {
   "cell_type": "code",
   "execution_count": null,
   "metadata": {},
   "outputs": [],
   "source": []
  },
  {
   "cell_type": "code",
   "execution_count": null,
   "metadata": {},
   "outputs": [],
   "source": []
  },
  {
   "cell_type": "code",
   "execution_count": null,
   "metadata": {},
   "outputs": [],
   "source": []
  }
 ],
 "metadata": {
  "kernelspec": {
   "display_name": "Quantum",
   "language": "python",
   "name": "python3"
  },
  "language_info": {
   "name": "python",
   "version": "3.9.19"
  }
 },
 "nbformat": 4,
 "nbformat_minor": 2
}
