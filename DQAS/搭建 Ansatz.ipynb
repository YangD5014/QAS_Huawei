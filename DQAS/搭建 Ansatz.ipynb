{
 "cells": [
  {
   "cell_type": "code",
   "execution_count": 1,
   "metadata": {},
   "outputs": [
    {
     "name": "stderr",
     "output_type": "stream",
     "text": [
      "/opt/miniconda3/envs/MindSpore/lib/python3.9/site-packages/mindquantum/simulator/__init__.py:17: UserWarning: Unable import mqvector gpu backend due to: cannot import name '_mq_vector_gpu' from partially initialized module 'mindquantum' (most likely due to a circular import) (/opt/miniconda3/envs/MindSpore/lib/python3.9/site-packages/mindquantum/__init__.py)\n",
      "  from .available_simulator import SUPPORTED_SIMULATOR\n"
     ]
    }
   ],
   "source": [
    "import numpy as np\n",
    "from mindquantum.core.gates import RX, RY, RZ, H, X, Y, Z, CNOT\n",
    "from mindquantum.core.circuit import Circuit\n",
    "import mindspore as ms\n",
    "from mindquantum.simulator import  Simulator\n",
    "from mindquantum.core.gates import GroupedPauli\n",
    "from mindquantum.core.operators import TimeEvolution,QubitOperator\n",
    "from mindquantum.core.parameterresolver import PRConvertible,PRGenerator,ParameterResolver\n",
    "from DQAS_tool import generate_pauli_string,one_hot\n",
    "from mindquantum.core.gates import RotPauliString\n",
    "from mindquantum.core.gates import UnivMathGate\n",
    "from mindspore import Tensor, ops\n",
    "from mindquantum.core.circuit import UN\n",
    "from mindquantum.core.operators import Hamiltonian             # 导入Hamiltonian模块，用于构建哈密顿量\n",
    "from mindquantum.framework import MQLayer\n",
    "from mindspore.nn import  TrainOneStepCell\n",
    "from mindspore.nn import SoftmaxCrossEntropyWithLogits                         # 导入SoftmaxCrossEntropyWithLogits模块，用于定义损失函数\n",
    "from mindspore.nn import Adam                                                  # 导入Adam模块用于定义优化参数\n",
    "from mindspore.train import Accuracy, Model, LossMonitor                       # 导入Accuracy模块，用于评估预测准确率\n",
    "import mindspore as ms\n",
    "from mindspore import Parameter, Tensor\n",
    "from mindspore.dataset import NumpySlicesDataset\n",
    "from torch.utils.data import DataLoader# 导入NumpySlicesDataset模块，用于创建模型可以识别的数据集\n",
    "import sys\n",
    "sys.path.append('..')\n",
    "from data_processing import X_train,X_test,y_train,y_test\n",
    "num_layer = 3\n",
    "# 定义标准差和形状\n",
    "stddev = 0.02\n",
    "shape_nnp = (num_layer, 8)\n",
    "shape_stp = (num_layer, 12)\n",
    "\n",
    "rtype = np.float64\n",
    "ctype = np.complex128\n",
    "# 使用 numpy 生成随机数矩阵\n",
    "nnp = np.random.normal(loc=0.0, scale=stddev, size=shape_nnp).astype(rtype)\n",
    "stp = np.random.normal(loc=0.0, scale=stddev, size=shape_stp).astype(rtype)\n",
    "#Operator Pool\n",
    "unbound_opeartor_pool = [generate_pauli_string(n=8,seed=i)[0] for i in range(8)]\n",
    "bound_opeartor_pool = [generate_pauli_string(n=8,seed=i)[1] for i in range(8,12)]"
   ]
  },
  {
   "cell_type": "code",
   "execution_count": 2,
   "metadata": {},
   "outputs": [],
   "source": [
    "from mindquantum.core.gates import  gene_univ_parameterized_gate"
   ]
  },
  {
   "cell_type": "code",
   "execution_count": 6,
   "metadata": {},
   "outputs": [],
   "source": [
    "class ForwardAndLoss(ms.nn.Cell):\n",
    "    def __init__(self, backbone, loss_fn):\n",
    "        super(ForwardAndLoss, self).__init__(auto_prefix=False)\n",
    "        self.backbone = backbone\n",
    "        self.loss_fn = loss_fn\n",
    "\n",
    "    def construct(self, data, label):\n",
    "        output = self.backbone(data)\n",
    "        return self.loss_fn(output, label)\n",
    "\n",
    "    def backbone_network(self):\n",
    "        return self.backbone\n",
    "    \n",
    "    \n",
    "class MyTrainOneStep(ms.nn.TrainOneStepCell):\n",
    "\n",
    "    def __init__(self, network, optimizer):\n",
    "        super(MyTrainOneStep, self).__init__(network, optimizer)\n",
    "        self.grad = ms.ops.GradOperation(get_by_list=True)\n",
    "\n",
    "    def construct(self, data, label):\n",
    "        weights = self.weights\n",
    "        loss = self.network(data, label)\n",
    "        grads = self.grad(self.network, weights)(data, label)\n",
    "        return loss, self.optimizer(grads)\n"
   ]
  },
  {
   "cell_type": "code",
   "execution_count": 4,
   "metadata": {},
   "outputs": [],
   "source": [
    "from mindspore import nn\n",
    "def Mindspore_ansatz(Structure_p:Parameter,Ansatz_p:Parameter,n_layer:int,n_qbits:int=8):\n",
    "    \"\"\"\n",
    "    和 DQAS 文章描述的一致，生成权重线路\n",
    "    Structure_p:np.array DQAS中的权重参数,\n",
    "    Ansatz_p:np.array  DQAS中的Ansatz参数,\n",
    "    \n",
    "    \"\"\"\n",
    "    Structure_p = Parameter(Tensor(Structure_p, ms.float32), requires_grad=True)\n",
    "    #Ansatz_p = Parameter(Tensor(Ansatz_p, ms.float32), requires_grad=True)\n",
    "    softmax = ops.Softmax()\n",
    "    my_stp = softmax(Tensor(Structure_p, ms.float32))\n",
    "    ansatz = Circuit()\n",
    "    pr_gen = PRGenerator('ansatz')\n",
    "    \n",
    "    for i in range(n_layer):\n",
    "        paramertized_part_count=0\n",
    "        for index_op,each_op in enumerate(unbound_opeartor_pool):\n",
    "            # ansatz_param = Ansatz_p[i,index_op]\n",
    "            #Structure_param =float(stp[i,index_op])\n",
    "            ansatz += TimeEvolution(QubitOperator(terms=each_op,coefficient=pr_gen.new()),time=float(my_stp[i,index_op])).circuit\n",
    "            paramertized_part_count+=1\n",
    "            \n",
    "        for index_op,each_op in enumerate(bound_opeartor_pool):\n",
    "            #print(index_op,each_op,paramertized_part_count)\n",
    "            op = GroupedPauli(each_op)\n",
    "            tmp_cir = Circuit([GroupedPauli(each_op).on(range(n_qbits))])\n",
    "            matrix = tmp_cir.matrix()\n",
    "            #print(matrix.shape,my_stp[i,index_op+paramertized_part_count])\n",
    "            ansatz += UnivMathGate(matrix_value=matrix*float(my_stp[i,index_op+paramertized_part_count]),name=op.pauli_string).on(range(n_qbits))  \n",
    "            \n",
    "            \n",
    "    return ansatz\n",
    "            \n",
    "    # sim = Simulator(backend='mqvector',n_qubits=8)\n",
    "    # hams = [Hamiltonian(QubitOperator(f'Z{i}')) for i in [0,1]]\n",
    "    # grad_ops= sim.get_expectation_with_grad(hams,ansatz)\n",
    "    # QuantumNet = MQLayer(grad_ops)   \n",
    "    # loss = ms.nn.SoftmaxCrossEntropyWithLogits(sparse=True, reduction='mean') # 定义损失函数    \n",
    "    # opti = Adam(QuantumNet.trainable_params(), learning_rate=0.05)     # 需要优化的是Quantumnet中可训练的参数，学习率设为0.5\n",
    "    # net = MyTrainOneStep(QuantumNet, opti)\n",
    "    # return net\n",
    "    \n",
    "    \n"
   ]
  },
  {
   "cell_type": "code",
   "execution_count": null,
   "metadata": {},
   "outputs": [],
   "source": []
  },
  {
   "cell_type": "code",
   "execution_count": null,
   "metadata": {},
   "outputs": [],
   "source": []
  },
  {
   "cell_type": "code",
   "execution_count": null,
   "metadata": {},
   "outputs": [],
   "source": []
  },
  {
   "cell_type": "code",
   "execution_count": null,
   "metadata": {},
   "outputs": [],
   "source": []
  },
  {
   "cell_type": "code",
   "execution_count": 10,
   "metadata": {},
   "outputs": [],
   "source": [
    "net = Mindspore_ansatz(Structure_p=stp,Ansatz_p=nnp,n_layer=3,n_qbits=8)"
   ]
  },
  {
   "cell_type": "code",
   "execution_count": null,
   "metadata": {},
   "outputs": [],
   "source": [
    "print(net.trainable_params())\n"
   ]
  },
  {
   "cell_type": "code",
   "execution_count": 20,
   "metadata": {},
   "outputs": [],
   "source": [
    "loss_fn = ms.nn.SoftmaxCrossEntropyWithLogits(sparse=True, reduction='mean') # 定义损失函数    \n",
    "def forward_fn(x, y):\n",
    "    z = net(x)\n",
    "    print(z)\n",
    "    loss = loss_fn(z, y)\n",
    "    return loss"
   ]
  },
  {
   "cell_type": "code",
   "execution_count": null,
   "metadata": {},
   "outputs": [],
   "source": [
    "grad_fn = ms.value_and_grad(forward_fn, None, weights=net.trainable_params())\n",
    "loss, grads = grad_fn(X_train[0],y_train[0])\n",
    "print(grads)\n"
   ]
  },
  {
   "cell_type": "code",
   "execution_count": null,
   "metadata": {},
   "outputs": [],
   "source": []
  },
  {
   "cell_type": "code",
   "execution_count": null,
   "metadata": {},
   "outputs": [],
   "source": []
  },
  {
   "cell_type": "code",
   "execution_count": null,
   "metadata": {},
   "outputs": [],
   "source": []
  },
  {
   "cell_type": "code",
   "execution_count": null,
   "metadata": {},
   "outputs": [],
   "source": []
  },
  {
   "cell_type": "code",
   "execution_count": null,
   "metadata": {},
   "outputs": [],
   "source": []
  },
  {
   "cell_type": "code",
   "execution_count": null,
   "metadata": {},
   "outputs": [],
   "source": [
    "g"
   ]
  },
  {
   "cell_type": "code",
   "execution_count": null,
   "metadata": {},
   "outputs": [],
   "source": [
    "\n",
    "\n",
    "def fn(x, y, z):\n",
    "    res = x * ops.exp(y) * ops.pow(z, 2)\n",
    "    return res, z\n",
    "\n",
    "x = Tensor([3, 3], ms.float32)\n",
    "y = Tensor([0, 0], ms.float32)\n",
    "z = Tensor([5, 5], ms.float32)\n",
    "gradient, aux = grad(fn, (1, 2), None, True,True)(x, y, z)\n",
    "gradient"
   ]
  },
  {
   "cell_type": "code",
   "execution_count": null,
   "metadata": {},
   "outputs": [],
   "source": [
    "aux"
   ]
  },
  {
   "cell_type": "code",
   "execution_count": null,
   "metadata": {},
   "outputs": [],
   "source": []
  },
  {
   "cell_type": "code",
   "execution_count": null,
   "metadata": {},
   "outputs": [],
   "source": []
  },
  {
   "cell_type": "code",
   "execution_count": null,
   "metadata": {},
   "outputs": [],
   "source": [
    "nnp = np.random.normal(loc=0.0, scale=stddev, size=shape_nnp).astype(rtype)\n",
    "stp = np.random.normal(loc=0.0, scale=stddev, size=shape_stp).astype(rtype)\n",
    "\n",
    "def wrapped_mindspore_ansatz(Structure_p, Ansatz_p, n_layer=3, n_qbits=8):\n",
    "    return Mindspore_ansatz(Structure_p, Ansatz_p, n_layer=n_layer, n_qbits=n_qbits)\n",
    "\n",
    "# 创建带梯度计算的函数\n",
    "vag2 = ops.value_and_grad(fn=wrapped_mindspore_ansatz, grad_position=(0, 1))\n",
    "\n",
    "# 使用 vag2 计算损失及其对 Structure_p 和 Ansatz_p 的梯度\n",
    "loss_value, (grad_structure, grad_ansatz) = vag2(stp, nnp)  # 确保 stp 和 nnp 是 numpy array\n",
    "print(\"Loss Value:\", loss_value)\n",
    "print(\"Gradient for Structure_p:\", grad_structure)\n",
    "print(\"Gradient for Ansatz_p:\", grad_ansatz)\n",
    "\n"
   ]
  },
  {
   "cell_type": "code",
   "execution_count": null,
   "metadata": {},
   "outputs": [],
   "source": []
  },
  {
   "cell_type": "code",
   "execution_count": null,
   "metadata": {},
   "outputs": [],
   "source": []
  },
  {
   "cell_type": "code",
   "execution_count": null,
   "metadata": {},
   "outputs": [],
   "source": [
    "Mindspore_ansatz(stp,nnp,3,8)"
   ]
  },
  {
   "cell_type": "code",
   "execution_count": null,
   "metadata": {},
   "outputs": [],
   "source": [
    "vag2(stp,nnp,3,8)"
   ]
  }
 ],
 "metadata": {
  "kernelspec": {
   "display_name": "MindSpore",
   "language": "python",
   "name": "python3"
  },
  "language_info": {
   "codemirror_mode": {
    "name": "ipython",
    "version": 3
   },
   "file_extension": ".py",
   "mimetype": "text/x-python",
   "name": "python",
   "nbconvert_exporter": "python",
   "pygments_lexer": "ipython3",
   "version": "3.9.19"
  }
 },
 "nbformat": 4,
 "nbformat_minor": 2
}
