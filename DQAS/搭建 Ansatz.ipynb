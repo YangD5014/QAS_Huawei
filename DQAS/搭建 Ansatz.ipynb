{
 "cells": [
  {
   "cell_type": "code",
   "execution_count": 3,
   "metadata": {},
   "outputs": [
    {
     "name": "stderr",
     "output_type": "stream",
     "text": [
      "/opt/miniconda3/envs/MindSpore/lib/python3.9/site-packages/mindquantum/simulator/__init__.py:17: UserWarning: Unable import mqvector gpu backend due to: cannot import name '_mq_vector_gpu' from partially initialized module 'mindquantum' (most likely due to a circular import) (/opt/miniconda3/envs/MindSpore/lib/python3.9/site-packages/mindquantum/__init__.py)\n",
      "  from .available_simulator import SUPPORTED_SIMULATOR\n"
     ]
    }
   ],
   "source": [
    "import numpy as np\n",
    "from mindquantum.core.gates import RX, RY, RZ, H, X, Y, Z, CNOT\n",
    "from mindquantum.core.circuit import Circuit\n",
    "import mindspore as ms\n",
    "from mindquantum.simulator import  Simulator\n",
    "from mindquantum.core.gates import GroupedPauli\n",
    "from mindquantum.core.operators import TimeEvolution,QubitOperator\n",
    "from mindquantum.core.parameterresolver import PRConvertible,PRGenerator,ParameterResolver\n",
    "from DQAS_tool import generate_pauli_string,one_hot\n",
    "from mindquantum.core.gates import RotPauliString\n",
    "from mindquantum.core.gates import UnivMathGate\n",
    "from mindspore import Tensor, ops\n",
    "from mindquantum.core.circuit import UN\n",
    "from mindquantum.core.operators import Hamiltonian             # 导入Hamiltonian模块，用于构建哈密顿量\n",
    "from mindquantum.framework import MQLayer\n",
    "from mindspore.nn import  TrainOneStepCell\n",
    "from mindspore.nn import SoftmaxCrossEntropyWithLogits                         # 导入SoftmaxCrossEntropyWithLogits模块，用于定义损失函数\n",
    "from mindspore.nn import Adam                                                  # 导入Adam模块用于定义优化参数\n",
    "from mindspore.train import Accuracy, Model, LossMonitor                       # 导入Accuracy模块，用于评估预测准确率\n",
    "import mindspore as ms\n",
    "from mindspore import Parameter, Tensor\n",
    "from mindspore.dataset import NumpySlicesDataset\n",
    "from torch.utils.data import DataLoader# 导入NumpySlicesDataset模块，用于创建模型可以识别的数据集\n",
    "import sys\n",
    "sys.path.append('..')\n",
    "from data_processing import X_train,X_test,y_train,y_test\n",
    "from mindquantum.core.operators import TimeEvolution,QubitOperator\n",
    "from mindquantum.core.parameterresolver import PRGenerator\n",
    "num_layer = 3\n",
    "# 定义标准差和形状\n",
    "stddev = 0.02\n",
    "shape_nnp = (num_layer, 8)\n",
    "shape_stp = (num_layer, 12)\n",
    "\n",
    "rtype = np.float64\n",
    "ctype = np.complex128\n",
    "# 使用 numpy 生成随机数矩阵\n",
    "nnp = np.random.normal(loc=0.0, scale=stddev, size=shape_nnp).astype(rtype)\n",
    "stp = np.random.normal(loc=0.0, scale=stddev, size=shape_stp).astype(rtype)\n",
    "#Operator Pool\n",
    "unbound_opeartor_pool = [generate_pauli_string(n=8,seed=i)[0] for i in range(8)]\n",
    "bound_opeartor_pool = [generate_pauli_string(n=8,seed=i)[1] for i in range(8,12)]"
   ]
  },
  {
   "cell_type": "code",
   "execution_count": 17,
   "metadata": {},
   "outputs": [],
   "source": [
    "ansatz_pr_gen = PRGenerator(name='Pool')\n",
    "parameterized_pool = \\\n",
    "[TimeEvolution(QubitOperator(terms='I0 I1 X2 X3',coefficient=ansatz_pr_gen.new()),time=0.5)]"
   ]
  },
  {
   "cell_type": "code",
   "execution_count": 18,
   "metadata": {},
   "outputs": [
    {
     "data": {
      "text/html": [
       "<pre style=\"white-space:pre;overflow-x:auto;line-height:normal;font-family:Menlo,'DejaVu Sans Mono',consolas,'Courier New',monospace\"></pre>\n"
      ],
      "text/plain": []
     },
     "metadata": {},
     "output_type": "display_data"
    },
    {
     "data": {
      "text/html": [
       "<pre style=\"white-space: pre;\">      ┏━━━┓                           ┏━━━┓   \n",
       "q2: <span style=\"color: #d2d4d9; text-decoration-color: #d2d4d9\">──</span>┨ <span style=\"font-weight: bold\">H</span> ┠<span style=\"color: #d2d4d9; text-decoration-color: #d2d4d9\">───</span>■<span style=\"color: #d2d4d9; text-decoration-color: #d2d4d9\">───────────────────</span>■<span style=\"color: #d2d4d9; text-decoration-color: #d2d4d9\">───</span>┨ <span style=\"font-weight: bold\">H</span> ┠<span style=\"color: #d2d4d9; text-decoration-color: #d2d4d9\">───</span>\n",
       "      ┗━━━┛   ┃                   ┃   ┗━━━┛   \n",
       "      ┏━━━┓ ┏━┻━┓ <span style=\"color: #feb439; text-decoration-color: #feb439\">┏━━━━━━━━━━━┓</span> ┏━┻━┓ ┏━━━┓   \n",
       "q3: <span style=\"color: #d2d4d9; text-decoration-color: #d2d4d9\">──</span>┨ <span style=\"font-weight: bold\">H</span> ┠<span style=\"color: #d2d4d9; text-decoration-color: #d2d4d9\">─</span>┨╺╋╸┠<span style=\"color: #d2d4d9; text-decoration-color: #d2d4d9\">─</span><span style=\"color: #feb439; text-decoration-color: #feb439\">┨</span> <span style=\"color: #800080; text-decoration-color: #800080; font-weight: bold\">RZ</span><span style=\"font-weight: bold\">(Pool1)</span> <span style=\"color: #feb439; text-decoration-color: #feb439\">┠</span><span style=\"color: #d2d4d9; text-decoration-color: #d2d4d9\">─</span>┨╺╋╸┠<span style=\"color: #d2d4d9; text-decoration-color: #d2d4d9\">─</span>┨ <span style=\"font-weight: bold\">H</span> ┠<span style=\"color: #d2d4d9; text-decoration-color: #d2d4d9\">───</span>\n",
       "      ┗━━━┛ ┗━━━┛ <span style=\"color: #feb439; text-decoration-color: #feb439\">┗━━━━━━━━━━━┛</span> ┗━━━┛ ┗━━━┛   \n",
       "</pre>\n"
      ],
      "text/plain": [
       "      ┏━━━┓                           ┏━━━┓   \n",
       "q2: ──┨ H ┠───■───────────────────■───┨ H ┠───\n",
       "      ┗━━━┛   ┃                   ┃   ┗━━━┛   \n",
       "      ┏━━━┓ ┏━┻━┓ ┏━━━━━━━━━━━┓ ┏━┻━┓ ┏━━━┓   \n",
       "q3: ──┨ H ┠─┨╺╋╸┠─┨ RZ(Pool1) ┠─┨╺╋╸┠─┨ H ┠───\n",
       "      ┗━━━┛ ┗━━━┛ ┗━━━━━━━━━━━┛ ┗━━━┛ ┗━━━┛   "
      ]
     },
     "execution_count": 18,
     "metadata": {},
     "output_type": "execute_result"
    }
   ],
   "source": [
    "TimeEvolution(QubitOperator(terms='I0 I1 X2 X3',coefficient=ansatz_pr_gen.new()),time=0.5).circuit"
   ]
  },
  {
   "cell_type": "code",
   "execution_count": 33,
   "metadata": {},
   "outputs": [
    {
     "ename": "TypeError",
     "evalue": "Require a quantum gate, but get <class 'abc.ABCMeta'>",
     "output_type": "error",
     "traceback": [
      "\u001b[0;31m---------------------------------------------------------------------------\u001b[0m",
      "\u001b[0;31mTypeError\u001b[0m                                 Traceback (most recent call last)",
      "Cell \u001b[0;32mIn[33], line 3\u001b[0m\n\u001b[1;32m      1\u001b[0m \u001b[38;5;28;01mfrom\u001b[39;00m \u001b[38;5;21;01mmindquantum\u001b[39;00m\u001b[38;5;21;01m.\u001b[39;00m\u001b[38;5;21;01mcore\u001b[39;00m\u001b[38;5;21;01m.\u001b[39;00m\u001b[38;5;21;01mcircuit\u001b[39;00m \u001b[38;5;28;01mimport\u001b[39;00m UN\n\u001b[1;32m      2\u001b[0m \u001b[38;5;28;01mfrom\u001b[39;00m \u001b[38;5;21;01mmindquantum\u001b[39;00m\u001b[38;5;21;01m.\u001b[39;00m\u001b[38;5;21;01mcore\u001b[39;00m\u001b[38;5;21;01m.\u001b[39;00m\u001b[38;5;21;01mgates\u001b[39;00m \u001b[38;5;28;01mimport\u001b[39;00m X,RX\n\u001b[0;32m----> 3\u001b[0m circuit1 \u001b[38;5;241m=\u001b[39m \u001b[43mUN\u001b[49m\u001b[43m(\u001b[49m\u001b[43mRX\u001b[49m\u001b[43m,\u001b[49m\u001b[43m \u001b[49m\u001b[43mmaps_obj\u001b[49m\u001b[43m \u001b[49m\u001b[38;5;241;43m=\u001b[39;49m\u001b[43m \u001b[49m\u001b[43m[\u001b[49m\u001b[38;5;241;43m0\u001b[39;49m\u001b[43m,\u001b[49m\u001b[38;5;241;43m1\u001b[39;49m\u001b[43m]\u001b[49m\u001b[43m,\u001b[49m\u001b[43m \u001b[49m\u001b[43mmaps_ctrl\u001b[49m\u001b[43m \u001b[49m\u001b[38;5;241;43m=\u001b[39;49m\u001b[43m \u001b[49m\u001b[43m[\u001b[49m\u001b[38;5;241;43m2\u001b[39;49m\u001b[43m,\u001b[49m\u001b[43m \u001b[49m\u001b[38;5;241;43m3\u001b[39;49m\u001b[43m]\u001b[49m\u001b[43m)\u001b[49m\n\u001b[1;32m      4\u001b[0m \u001b[38;5;28mprint\u001b[39m(circuit1)\n",
      "File \u001b[0;32m/opt/miniconda3/envs/MindSpore/lib/python3.9/site-packages/mindquantum/core/circuit/module_circuit.py:71\u001b[0m, in \u001b[0;36mUN.__init__\u001b[0;34m(self, gate, maps_obj, maps_ctrl)\u001b[0m\n\u001b[1;32m     69\u001b[0m \u001b[38;5;28;01mdef\u001b[39;00m \u001b[38;5;21m__init__\u001b[39m(\u001b[38;5;28mself\u001b[39m, gate: BasicGate, maps_obj, maps_ctrl\u001b[38;5;241m=\u001b[39m\u001b[38;5;28;01mNone\u001b[39;00m):\n\u001b[1;32m     70\u001b[0m \u001b[38;5;250m    \u001b[39m\u001b[38;5;124;03m\"\"\"Initialize a UN object.\"\"\"\u001b[39;00m\n\u001b[0;32m---> 71\u001b[0m     \u001b[43m_check_gate_type\u001b[49m\u001b[43m(\u001b[49m\u001b[43mgate\u001b[49m\u001b[43m)\u001b[49m\n\u001b[1;32m     72\u001b[0m     \u001b[38;5;28;01mif\u001b[39;00m \u001b[38;5;28misinstance\u001b[39m(maps_obj, Iterable):\n\u001b[1;32m     73\u001b[0m         \u001b[38;5;28;01mif\u001b[39;00m maps_ctrl \u001b[38;5;129;01mis\u001b[39;00m \u001b[38;5;28;01mNone\u001b[39;00m:\n",
      "File \u001b[0;32m/opt/miniconda3/envs/MindSpore/lib/python3.9/site-packages/mindquantum/utils/type_value_check.py:137\u001b[0m, in \u001b[0;36m_check_gate_type\u001b[0;34m(gate)\u001b[0m\n\u001b[1;32m    134\u001b[0m \u001b[38;5;28;01mfrom\u001b[39;00m \u001b[38;5;21;01m.\u001b[39;00m\u001b[38;5;21;01m.\u001b[39;00m\u001b[38;5;21;01mcore\u001b[39;00m\u001b[38;5;21;01m.\u001b[39;00m\u001b[38;5;21;01mgates\u001b[39;00m\u001b[38;5;21;01m.\u001b[39;00m\u001b[38;5;21;01mbasic\u001b[39;00m \u001b[38;5;28;01mimport\u001b[39;00m BasicGate\n\u001b[1;32m    136\u001b[0m \u001b[38;5;28;01mif\u001b[39;00m \u001b[38;5;129;01mnot\u001b[39;00m \u001b[38;5;28misinstance\u001b[39m(gate, BasicGate):\n\u001b[0;32m--> 137\u001b[0m     \u001b[38;5;28;01mraise\u001b[39;00m \u001b[38;5;167;01mTypeError\u001b[39;00m(\u001b[38;5;124mf\u001b[39m\u001b[38;5;124m\"\u001b[39m\u001b[38;5;124mRequire a quantum gate, but get \u001b[39m\u001b[38;5;132;01m{\u001b[39;00m\u001b[38;5;28mtype\u001b[39m(gate)\u001b[38;5;132;01m}\u001b[39;00m\u001b[38;5;124m\"\u001b[39m)\n",
      "\u001b[0;31mTypeError\u001b[0m: Require a quantum gate, but get <class 'abc.ABCMeta'>"
     ]
    }
   ],
   "source": [
    "from mindquantum.core.circuit import UN\n",
    "from mindquantum.core.gates import X,RX\n",
    "circuit1 = UN(RX, maps_obj = [0,1], maps_ctrl = [2, 3])\n",
    "print(circuit1)"
   ]
  },
  {
   "cell_type": "code",
   "execution_count": 34,
   "metadata": {},
   "outputs": [
    {
     "name": "stdout",
     "output_type": "stream",
     "text": [
      "q0: ──╳─────────\n",
      "      ┃         \n",
      "      ┃         \n",
      "q1: ──╳───■─────\n",
      "          ┃     \n",
      "        ┏━┻━┓   \n",
      "q2: ──╳─┨╺╋╸┠───\n",
      "      ┃ ┗━━━┛   \n",
      "      ┃         \n",
      "q3: ──╳─────────\n"
     ]
    }
   ],
   "source": [
    "from mindquantum.core.gates import SWAP\n",
    "circuit2 = UN(SWAP, maps_obj =[[0, 1], [2, 3]]).x(2, 1)\n",
    "print(circuit2)"
   ]
  },
  {
   "cell_type": "code",
   "execution_count": 10,
   "metadata": {},
   "outputs": [],
   "source": [
    "net = Mindspore_ansatz(Structure_p=stp,Ansatz_p=nnp,n_layer=3,n_qbits=8)"
   ]
  },
  {
   "cell_type": "code",
   "execution_count": null,
   "metadata": {},
   "outputs": [],
   "source": [
    "print(net.trainable_params())\n"
   ]
  },
  {
   "cell_type": "code",
   "execution_count": 20,
   "metadata": {},
   "outputs": [],
   "source": [
    "loss_fn = ms.nn.SoftmaxCrossEntropyWithLogits(sparse=True, reduction='mean') # 定义损失函数    \n",
    "def forward_fn(x, y):\n",
    "    z = net(x)\n",
    "    print(z)\n",
    "    loss = loss_fn(z, y)\n",
    "    return loss"
   ]
  },
  {
   "cell_type": "code",
   "execution_count": null,
   "metadata": {},
   "outputs": [],
   "source": [
    "grad_fn = ms.value_and_grad(forward_fn, None, weights=net.trainable_params())\n",
    "loss, grads = grad_fn(X_train[0],y_train[0])\n",
    "print(grads)\n"
   ]
  },
  {
   "cell_type": "code",
   "execution_count": null,
   "metadata": {},
   "outputs": [],
   "source": []
  },
  {
   "cell_type": "code",
   "execution_count": null,
   "metadata": {},
   "outputs": [],
   "source": []
  },
  {
   "cell_type": "code",
   "execution_count": null,
   "metadata": {},
   "outputs": [],
   "source": []
  },
  {
   "cell_type": "code",
   "execution_count": null,
   "metadata": {},
   "outputs": [],
   "source": []
  },
  {
   "cell_type": "code",
   "execution_count": null,
   "metadata": {},
   "outputs": [],
   "source": []
  },
  {
   "cell_type": "code",
   "execution_count": null,
   "metadata": {},
   "outputs": [],
   "source": [
    "g"
   ]
  },
  {
   "cell_type": "code",
   "execution_count": null,
   "metadata": {},
   "outputs": [],
   "source": [
    "\n",
    "\n",
    "def fn(x, y, z):\n",
    "    res = x * ops.exp(y) * ops.pow(z, 2)\n",
    "    return res, z\n",
    "\n",
    "x = Tensor([3, 3], ms.float32)\n",
    "y = Tensor([0, 0], ms.float32)\n",
    "z = Tensor([5, 5], ms.float32)\n",
    "gradient, aux = grad(fn, (1, 2), None, True,True)(x, y, z)\n",
    "gradient"
   ]
  },
  {
   "cell_type": "code",
   "execution_count": null,
   "metadata": {},
   "outputs": [],
   "source": [
    "aux"
   ]
  },
  {
   "cell_type": "code",
   "execution_count": null,
   "metadata": {},
   "outputs": [],
   "source": []
  },
  {
   "cell_type": "code",
   "execution_count": null,
   "metadata": {},
   "outputs": [],
   "source": []
  },
  {
   "cell_type": "code",
   "execution_count": null,
   "metadata": {},
   "outputs": [],
   "source": [
    "nnp = np.random.normal(loc=0.0, scale=stddev, size=shape_nnp).astype(rtype)\n",
    "stp = np.random.normal(loc=0.0, scale=stddev, size=shape_stp).astype(rtype)\n",
    "\n",
    "def wrapped_mindspore_ansatz(Structure_p, Ansatz_p, n_layer=3, n_qbits=8):\n",
    "    return Mindspore_ansatz(Structure_p, Ansatz_p, n_layer=n_layer, n_qbits=n_qbits)\n",
    "\n",
    "# 创建带梯度计算的函数\n",
    "vag2 = ops.value_and_grad(fn=wrapped_mindspore_ansatz, grad_position=(0, 1))\n",
    "\n",
    "# 使用 vag2 计算损失及其对 Structure_p 和 Ansatz_p 的梯度\n",
    "loss_value, (grad_structure, grad_ansatz) = vag2(stp, nnp)  # 确保 stp 和 nnp 是 numpy array\n",
    "print(\"Loss Value:\", loss_value)\n",
    "print(\"Gradient for Structure_p:\", grad_structure)\n",
    "print(\"Gradient for Ansatz_p:\", grad_ansatz)\n",
    "\n"
   ]
  },
  {
   "cell_type": "code",
   "execution_count": null,
   "metadata": {},
   "outputs": [],
   "source": []
  },
  {
   "cell_type": "code",
   "execution_count": null,
   "metadata": {},
   "outputs": [],
   "source": []
  },
  {
   "cell_type": "code",
   "execution_count": null,
   "metadata": {},
   "outputs": [],
   "source": [
    "Mindspore_ansatz(stp,nnp,3,8)"
   ]
  },
  {
   "cell_type": "code",
   "execution_count": null,
   "metadata": {},
   "outputs": [],
   "source": [
    "vag2(stp,nnp,3,8)"
   ]
  }
 ],
 "metadata": {
  "kernelspec": {
   "display_name": "MindSpore",
   "language": "python",
   "name": "python3"
  },
  "language_info": {
   "codemirror_mode": {
    "name": "ipython",
    "version": 3
   },
   "file_extension": ".py",
   "mimetype": "text/x-python",
   "name": "python",
   "nbconvert_exporter": "python",
   "pygments_lexer": "ipython3",
   "version": "3.9.19"
  }
 },
 "nbformat": 4,
 "nbformat_minor": 2
}
