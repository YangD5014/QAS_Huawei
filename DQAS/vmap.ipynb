{
 "cells": [
  {
   "cell_type": "code",
   "execution_count": 11,
   "metadata": {},
   "outputs": [
    {
     "data": {
      "text/html": [
       "<pre style=\"white-space:pre;overflow-x:auto;line-height:normal;font-family:Menlo,'DejaVu Sans Mono',consolas,'Courier New',monospace\"></pre>\n"
      ],
      "text/plain": []
     },
     "metadata": {},
     "output_type": "display_data"
    },
    {
     "data": {
      "text/html": [
       "<pre style=\"white-space: pre;\">      ┏━━━┓         \n",
       "q0: <span style=\"color: #d2d4d9; text-decoration-color: #d2d4d9\">──</span>┨╺╋╸┠<span style=\"color: #d2d4d9; text-decoration-color: #d2d4d9\">───</span>■<span style=\"color: #d2d4d9; text-decoration-color: #d2d4d9\">─────</span>\n",
       "      ┗━━━┛   ┃     \n",
       "      ┏━━━┓ ┏━┻━┓   \n",
       "q1: <span style=\"color: #d2d4d9; text-decoration-color: #d2d4d9\">──</span>┨ <span style=\"font-weight: bold\">Y</span> ┠<span style=\"color: #d2d4d9; text-decoration-color: #d2d4d9\">─</span>┨╺╋╸┠<span style=\"color: #d2d4d9; text-decoration-color: #d2d4d9\">───</span>\n",
       "      ┗━━━┛ ┗━━━┛   \n",
       "</pre>\n"
      ],
      "text/plain": [
       "      ┏━━━┓         \n",
       "q0: ──┨╺╋╸┠───■─────\n",
       "      ┗━━━┛   ┃     \n",
       "      ┏━━━┓ ┏━┻━┓   \n",
       "q1: ──┨ Y ┠─┨╺╋╸┠───\n",
       "      ┗━━━┛ ┗━━━┛   "
      ]
     },
     "execution_count": 11,
     "metadata": {},
     "output_type": "execute_result"
    }
   ],
   "source": [
    "from mindquantum.core import X\n",
    "from mindquantum.core.operators import QubitOperator\n",
    "from mindquantum.core.circuit import pauli_word_to_circuits\n",
    "qubitops = QubitOperator('X0 Y1')\n",
    "pauli_word_to_circuits(qubitops) + X(1, 0)\n",
    "\n",
    "\n",
    "\n",
    "\n",
    "\n",
    "\n",
    "\n"
   ]
  },
  {
   "cell_type": "code",
   "execution_count": 13,
   "metadata": {},
   "outputs": [
    {
     "name": "stdout",
     "output_type": "stream",
     "text": [
      "      ┏━━━┓         \n",
      "q0: ──┨╺╋╸┠─────────\n",
      "      ┗━┳━┛         \n",
      "        ┃   ┏━━━┓   \n",
      "q1: ────╂───┨╺╋╸┠───\n",
      "        ┃   ┗━┳━┛   \n",
      "        ┃     ┃     \n",
      "q2: ────■─────■─────\n",
      "q0: ──╳─────────\n",
      "      ┃         \n",
      "      ┃         \n",
      "q1: ──╳───■─────\n",
      "          ┃     \n",
      "        ┏━┻━┓   \n",
      "q2: ──╳─┨╺╋╸┠───\n",
      "      ┃ ┗━━━┛   \n",
      "      ┃         \n",
      "q3: ──╳─────────\n"
     ]
    }
   ],
   "source": [
    "from mindquantum.core.circuit import UN\n",
    "from mindquantum.core.gates import X\n",
    "circuit1 = UN(X, maps_obj = [0, 1], maps_ctrl = [2,2])\n",
    "print(circuit1)\n",
    "\n",
    "from mindquantum.core.gates import SWAP\n",
    "circuit2 = UN(SWAP, maps_obj =[[0, 1], [2, 3]]).x(2, 1)\n",
    "print(circuit2)\n"
   ]
  },
  {
   "cell_type": "code",
   "execution_count": null,
   "metadata": {},
   "outputs": [],
   "source": []
  }
 ],
 "metadata": {
  "kernelspec": {
   "display_name": "MindSpore",
   "language": "python",
   "name": "python3"
  },
  "language_info": {
   "codemirror_mode": {
    "name": "ipython",
    "version": 3
   },
   "file_extension": ".py",
   "mimetype": "text/x-python",
   "name": "python",
   "nbconvert_exporter": "python",
   "pygments_lexer": "ipython3",
   "version": "3.9.19"
  }
 },
 "nbformat": 4,
 "nbformat_minor": 2
}
