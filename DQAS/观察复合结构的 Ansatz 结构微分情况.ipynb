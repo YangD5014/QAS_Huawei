{
 "cells": [
  {
   "cell_type": "code",
   "execution_count": 10,
   "metadata": {},
   "outputs": [],
   "source": [
    "import numpy as np\n",
    "from mindquantum.core.gates import RX, RY, RZ, H, X, Y, Z, CNOT\n",
    "from mindquantum.core.circuit import Circuit\n",
    "import mindspore as ms\n",
    "from mindquantum.simulator import  Simulator\n",
    "from mindquantum.core.gates import GroupedPauli\n",
    "from mindquantum.core.operators import TimeEvolution,QubitOperator\n",
    "from mindquantum.core.parameterresolver import PRConvertible,PRGenerator,ParameterResolver\n",
    "from DQAS_tool import generate_pauli_string,one_hot,unbound_opeartor_pool\n",
    "from mindquantum.core.gates import RotPauliString\n",
    "from mindquantum.core.gates import UnivMathGate\n",
    "from mindspore import Tensor, ops\n",
    "from mindquantum.core.circuit import UN\n",
    "from mindquantum.core.operators import Hamiltonian             # 导入Hamiltonian模块，用于构建哈密顿量\n",
    "from mindquantum.framework import MQLayer,MQOps\n",
    "from mindspore.nn import  TrainOneStepCell\n",
    "from mindspore.nn import SoftmaxCrossEntropyWithLogits                         # 导入SoftmaxCrossEntropyWithLogits模块，用于定义损失函数\n",
    "from mindspore.nn import Adam                                                  # 导入Adam模块用于定义优化参数\n",
    "from mindspore.train import Accuracy, Model, LossMonitor                       # 导入Accuracy模块，用于评估预测准确率\n",
    "import mindspore as ms\n",
    "from mindspore import Parameter, Tensor\n",
    "from mindspore.dataset import NumpySlicesDataset\n",
    "from torch.utils.data import DataLoader# 导入NumpySlicesDataset模块，用于创建模型可以识别的数据集\n",
    "import sys\n",
    "sys.path.append('..')\n",
    "from data_processing import X_train,X_test,y_train,y_test\n",
    "from mindquantum.algorithm.nisq import HardwareEfficientAnsatz     \n",
    "# #Operator Pool\n"
   ]
  },
  {
   "cell_type": "code",
   "execution_count": 11,
   "metadata": {},
   "outputs": [],
   "source": [
    "unbound_opeartor_pool = \\\n",
    "[\"X0 X1 I2 I3 I4 I5 I6 I7\", \n",
    " \"I0 X1 X2 I3 I4 I5 I6 I7\",\n",
    " \"I0 I1 X2 X3 I4 I5 I6 I7\",\n",
    " \"I0 I1 I2 X3 X4 I5 I6 I7\",\n",
    " \"I0 I1 I2 I3 X4 X5 I6 I7\",\n",
    " \"I0 I1 I2 I3 I4 I4 X6 I7\",\n",
    " \"Y0 Y1 I2 I3 I4 I4 I6 I7\",\n",
    " \"I0 Y1 Y2 I3 I4 I4 I6 I7\",\n",
    " \"I0 I1 Y2 Y3 I4 I4 I6 I7\",\n",
    " \"I0 I1 I2 Y3 Y4 I4 I6 I7\",\n",
    " \"I0 I1 I2 I3 Y4 Y5 I6 I7\",\n",
    " \"I0 I1 I2 I3 I4 Y5 Y6 I7\",\n",
    " ]\n",
    "bound_opeartor_pool = \\\n",
    "['ZYIXXXZX',\n",
    " 'IZZYYXZI',\n",
    " 'XIIXYIIZ',\n",
    " 'IIIYYIYX',\n",
    " 'IZZYIXZI',\n",
    " 'ZZYYYYYY']\n",
    "\n",
    "num_layer = 7\n",
    "# 定义标准差和形状\n",
    "stddev = 0.02\n",
    "shape_parametized = len(unbound_opeartor_pool)\n",
    "shape_unparametized = len(bound_opeartor_pool)\n",
    "shape_nnp = (num_layer, shape_parametized)\n",
    "shape_stp = (num_layer, shape_parametized+shape_unparametized)\n",
    "\n",
    "nnp = np.random.normal(loc=0.0, scale=stddev, size=shape_nnp)\n",
    "stp = np.random.normal(loc=0.0, scale=stddev, size=shape_stp)\n",
    "\n",
    "np.random.seed(10)\n",
    "unbound_opeartor_pool = [generate_pauli_string(n=8,seed=i)[0] for i in range(shape_parametized)]\n",
    "bound_opeartor_pool = [generate_pauli_string(n=8,seed=i)[1] for i in range(shape_parametized,shape_parametized+shape_unparametized)]"
   ]
  },
  {
   "cell_type": "code",
   "execution_count": 12,
   "metadata": {},
   "outputs": [
    {
     "data": {
      "image/png": "[encoded data removed]",
      "text/plain": [
       "<Figure size 640x480 with 1 Axes>"
      ]
     },
     "metadata": {},
     "output_type": "display_data"
    }
   ],
   "source": [
    "import numpy as np\n",
    "import matplotlib.pyplot as plt\n",
    "\n",
    "# 生成正态分布的随机数\n",
    "shape_nnp = (1000,)  # 生成 1000 个随机数\n",
    "rtype = np.float32\n",
    "random_array = np.random.normal(loc=0.0, scale=0.05, size=shape_nnp).astype(rtype)\n",
    "\n",
    "# 绘制直方图\n",
    "plt.hist(random_array, bins=30, density=True, alpha=0.6, color='g')\n",
    "\n",
    "# 绘制正态分布的概率密度函数\n",
    "mu, sigma = 0.0, 0.2\n",
    "xmin, xmax = plt.xlim()\n",
    "x = np.linspace(xmin, xmax, 100)\n",
    "p = np.exp(-((x - mu) ** 2) / (2 * sigma ** 2)) / (sigma * np.sqrt(2 * np.pi))\n",
    "plt.plot(x, p, 'k', linewidth=2)\n",
    "\n",
    "title = \"Fit results: mu = %.2f,  sigma = %.2f\" % (mu, sigma)\n",
    "plt.title(title)\n",
    "\n",
    "plt.show()"
   ]
  },
  {
   "cell_type": "code",
   "execution_count": null,
   "metadata": {},
   "outputs": [],
   "source": []
  },
  {
   "cell_type": "code",
   "execution_count": 13,
   "metadata": {},
   "outputs": [],
   "source": [
    "from DQAS_tool import Mindspore_ansatz,sampling_from_structure\n"
   ]
  },
  {
   "cell_type": "code",
   "execution_count": 16,
   "metadata": {},
   "outputs": [],
   "source": [
    "def Mindspore_ansatz(Structure_p:np.array,\n",
    "                     parameterized_pool:list,\n",
    "                     unparameterized_pool:list,\n",
    "                     num_layer:int=6,\n",
    "                     n_qbits:int=8):\n",
    "    \"\"\"\n",
    "    和 DQAS 文章描述的一致，生成权重线路\n",
    "    Structure_p:np.array DQAS中的权重参数,\n",
    "    Ansatz_p:np.array  DQAS中的Ansatz参数,\n",
    "    \n",
    "    \"\"\"\n",
    "    if Structure_p.shape[0] != num_layer:\n",
    "        raise ValueError('Structure_p shape must be equal to num_layer')\n",
    "    \n",
    "    if Structure_p.shape[1] != len(unbound_opeartor_pool)+len(bound_opeartor_pool):\n",
    "        raise ValueError('Structure_p shape must be equal to size of pool')\n",
    "    softmax = ops.Softmax()\n",
    "    my_stp = softmax(Tensor(Structure_p, ms.float32))\n",
    "    \n",
    "    prg = PRGenerator('encoder')\n",
    "    nqbits = n_qbits\n",
    "    encoder = Circuit()\n",
    "    encoder += UN(H, nqbits)                                 \n",
    "    for i in range(nqbits):                                  \n",
    "        encoder += RY(prg.new()).on(i)                 \n",
    "        \n",
    "    ansatz = Circuit()\n",
    "    pr_gen = PRGenerator('ansatz')\n",
    "    #print(my_stp.shape)\n",
    "    for i in range(num_layer):\n",
    "        paramertized_part_count=0\n",
    "        for index_op,each_op in enumerate(parameterized_pool):\n",
    "            #print(my_stp[i,index_op])\n",
    "            ansatz += TimeEvolution(QubitOperator(terms=each_op,coefficient=pr_gen.new()),time=float(my_stp[i,index_op])).circuit\n",
    "            paramertized_part_count+=1\n",
    "            \n",
    "        for index_op,each_op in enumerate(unparameterized_pool):\n",
    "            op = GroupedPauli(each_op)\n",
    "            tmp_cir = Circuit([GroupedPauli(each_op).on(range(n_qbits))])\n",
    "            matrix = tmp_cir.matrix()\n",
    "            ansatz += UnivMathGate(matrix_value=matrix*float(my_stp[i,index_op+paramertized_part_count]),name=f'{my_stp[i,index_op+paramertized_part_count]}*{op.pauli_string}').on(range(n_qbits))  \n",
    "    \n",
    "    finnal_ansatz = encoder.as_encoder() + ansatz.as_ansatz()\n",
    "    return finnal_ansatz"
   ]
  },
  {
   "cell_type": "code",
   "execution_count": 17,
   "metadata": {},
   "outputs": [],
   "source": [
    "ansatz = Mindspore_ansatz(Structure_p=stp,parameterized_pool=unbound_opeartor_pool,unparameterized_pool=bound_opeartor_pool,num_layer=num_layer,n_qbits=8)"
   ]
  },
  {
   "cell_type": "code",
   "execution_count": 19,
   "metadata": {},
   "outputs": [],
   "source": [
    "from DQAS_tool import loss_fn\n",
    "def vag_nnp2(Structure_params: np.array, Ansatz_params: np.array,paramerterized_pool:list,unparamterized_pool:list,num_layer:int=6,n_qbits:int=8):\n",
    "    \"\"\"\n",
    "    用于计算梯度 Ansatz_params关于 loss 的梯度\n",
    "    value,grad_ansatz_params = vag(训练数据,标签数据)\n",
    "    \"\"\"\n",
    "    ansatz = Mindspore_ansatz(Structure_p=Structure_params,\n",
    "                              parameterized_pool=paramerterized_pool,unparameterized_pool=unparamterized_pool,\n",
    "                              num_layer=num_layer,n_qbits=n_qbits)\n",
    "    sim = Simulator(backend='mqvector', n_qubits=n_qbits)\n",
    "    hams = [Hamiltonian(QubitOperator(f'Z{i}')) for i in [0, 1]]\n",
    "    grad_ops = sim.get_expectation_with_grad(hams, ansatz)\n",
    "    #print(Ansatz_params.shape)\n",
    "    Mylayer = MQLayer(grad_ops,ms.Tensor(Ansatz_params,ms.float64).reshape(-1))\n",
    "\n",
    "\n",
    "    def forward_fn(encode_p,y_label):\n",
    "        eval_obserables = Mylayer(encode_p)\n",
    "        loss = loss_fn(eval_obserables, y_label)\n",
    "        return loss\n",
    "    # nnp = ms.Tensor(Ansatz_params).reshape(-1)\n",
    "    grad_fn = ms.value_and_grad(fn=forward_fn,grad_position=None,weights=Mylayer.trainable_params())\n",
    "    \n",
    "    return grad_fn"
   ]
  },
  {
   "cell_type": "code",
   "execution_count": null,
   "metadata": {},
   "outputs": [
    {
     "name": "stdout",
     "output_type": "stream",
     "text": [
      "sdsd (7, 18)\n"
     ]
    },
    {
     "name": "stderr",
     "output_type": "stream",
     "text": [
      "Exception ignored in: <bound method IPythonKernel._clean_thread_parent_frames of <ipykernel.ipkernel.IPythonKernel object at 0x1051fa6a0>>\n",
      "Traceback (most recent call last):\n",
      "  File \"/opt/miniconda3/envs/MindSpore/lib/python3.9/site-packages/ipykernel/ipkernel.py\", line 775, in _clean_thread_parent_frames\n",
      "    def _clean_thread_parent_frames(\n",
      "KeyboardInterrupt: \n"
     ]
    }
   ],
   "source": [
    "import numpy as np\n",
    "import tensorcircuit as tc\n",
    "import tensorflow as tf\n",
    "from DQAS_tool import  DQASAnsatz_from_result,vag_nnp,nmf_gradient\n",
    "K = tc.set_backend(\"tensorflow\")\n",
    "lr = tf.keras.optimizers.schedules.ExponentialDecay(0.06, 100, 0.5)\n",
    "structure_opt = tc.backend.optimizer(tf.keras.optimizers.Adam(0.05))\n",
    "network_opt = tc.backend.optimizer(tf.keras.optimizers.Adam(lr))\n",
    "verbose = False\n",
    "# 设置超参数\n",
    "epochs = 100\n",
    "batch_size=256\n",
    "# shape_nnp = (num_layer, shape_parametized)\n",
    "# shape_stp = (num_layer, shape_parametized+7)\n",
    "# nnp = np.random.normal(loc=0.0, scale=stddev, size=shape_nnp).astype(rtype)\n",
    "# stp = np.random.normal(loc=0.0, scale=stddev, size=shape_stp).astype(rtype)\n",
    "print('sdsd',stp.shape)\n",
    "avcost1 = 0\n",
    "\n",
    "ops_onehot = ops.OneHot(axis=-1)\n",
    "\n",
    "avcost2 = avcost1\n",
    "\n",
    "costl = []\n",
    "tmp = np.stack([sampling_from_structure(stp,num_layer,shape_parametized) for _ in range(batch_size)])\n",
    "batch_structure = ops_onehot(ms.Tensor(tmp),shape_parametized+shape_unparametized,ms.Tensor(1),ms.Tensor(0))\n",
    "#print(batch_structure.shape)\n",
    "# print(tmp,batch_structure)\n",
    "loss_value = []\n",
    "grad_nnps = []\n",
    "grad_stps = []\n",
    "    \n",
    "for i in batch_structure:          \n",
    "    infd, grad_nnp = vag_nnp2(Structure_params=i,Ansatz_params=nnp,paramerterized_pool=unbound_opeartor_pool,unparamterized_pool=bound_opeartor_pool,num_layer=num_layer,n_qbits=8)(ms.Tensor(X_train),ms.Tensor(y_train))\n",
    "    gs = nmf_gradient(structures=stp,oh=i,num_layer=num_layer,size_pool=shape_parametized+shape_unparametized)\n",
    "    #print(infd,grad_nnp)\n",
    "    loss_value.append(infd)\n",
    "    grad_nnps.append(grad_nnp[0])\n",
    "    grad_stps.append(gs)\n",
    "\n",
    "infd = ops.stack(loss_value)\n",
    "gnnp = ops.addn(grad_nnps)\n",
    "gstp = [(infd[i] - avcost2) * grad_stps[i] for i in range(infd.shape[0])]\n",
    "gstp_averge = ops.addn(gstp) / infd.shape[0]\n",
    "avcost1 = sum(infd) / infd.shape[0]\n",
    "\n",
    "    \n",
    "print(gstp_averge)\n",
    " "
   ]
  },
  {
   "cell_type": "code",
   "execution_count": null,
   "metadata": {},
   "outputs": [],
   "source": []
  }
 ],
 "metadata": {
  "kernelspec": {
   "display_name": "MindSpore",
   "language": "python",
   "name": "python3"
  },
  "language_info": {
   "codemirror_mode": {
    "name": "ipython",
    "version": 3
   },
   "file_extension": ".py",
   "mimetype": "text/x-python",
   "name": "python",
   "nbconvert_exporter": "python",
   "pygments_lexer": "ipython3",
   "version": "3.9.19"
  }
 },
 "nbformat": 4,
 "nbformat_minor": 2
}
