{
 "cells": [
  {
   "cell_type": "code",
   "execution_count": 4,
   "metadata": {},
   "outputs": [],
   "source": [
    "from mindquantum.utils import random_circuit\n",
    "from mindquantum.core.circuit import Circuit\n",
    "from huawei_graph_tool import ConvertCircuit,my_random_circuit,CustomGraphDataset\n",
    "import random,os\n",
    "import networkx as nx\n",
    "from torch_geometric.utils import train_test_split_edges\n",
    "from torch_geometric.data import Data\n",
    "from mindquantum.io.qasm import HiQASM\n",
    "from mindquantum.algorithm.compiler import  DAGCircuit,DAGQubitNode,DAGNode"
   ]
  },
  {
   "cell_type": "code",
   "execution_count": 5,
   "metadata": {},
   "outputs": [
    {
     "name": "stdout",
     "output_type": "stream",
     "text": [
      "Data(x=[20, 22], edge_index=[2, 20])\n"
     ]
    },
    {
     "name": "stderr",
     "output_type": "stream",
     "text": [
      "/Users/yangjianfei/mac_vscode/华为 QAS 实习/huawei_graph_tool.py:168: FutureWarning: You are using `torch.load` with `weights_only=False` (the current default value), which uses the default pickle module implicitly. It is possible to construct malicious pickle data which will execute arbitrary code during unpickling (See https://github.com/pytorch/pytorch/blob/main/SECURITY.md#untrusted-models for more details). In a future release, the default value for `weights_only` will be flipped to `True`. This limits the functions that could be executed during unpickling. Arbitrary objects will no longer be allowed to be loaded via this mode unless they are explicitly allowlisted by the user via `torch.serialization.add_safe_globals`. We recommend you start setting `weights_only=True` for any use case where you don't have full control of the loaded file. Please open an issue on GitHub for any issues related to this experimental feature.\n",
      "  self.data, self.slices = torch.load(self.processed_paths[0])\n",
      "/opt/miniconda3/envs/MindSpore/lib/python3.9/site-packages/torch_geometric/deprecation.py:26: UserWarning: 'train_test_split_edges' is deprecated, use 'transforms.RandomLinkSplit' instead\n",
      "  warnings.warn(out)\n"
     ]
    }
   ],
   "source": [
    "root = './VGAE_dataset'\n",
    "\n",
    "# 创建数据集对象\n",
    "dataset = CustomGraphDataset(root=root)\n",
    "#以下报错 \n",
    "data = dataset[0]\n",
    "\n",
    "# 将图数据对象分割为训练集和测试集\n",
    "data = train_test_split_edges(data)\n",
    "print(dataset[0])"
   ]
  },
  {
   "cell_type": "code",
   "execution_count": 6,
   "metadata": {},
   "outputs": [
    {
     "data": {
      "text/plain": [
       "Data(x=[20, 22], val_pos_edge_index=[2, 1], test_pos_edge_index=[2, 2], train_pos_edge_index=[2, 34], train_neg_adj_mask=[20, 20], val_neg_edge_index=[2, 1], test_neg_edge_index=[2, 2])"
      ]
     },
     "execution_count": 6,
     "metadata": {},
     "output_type": "execute_result"
    }
   ],
   "source": [
    "data"
   ]
  },
  {
   "cell_type": "code",
   "execution_count": null,
   "metadata": {},
   "outputs": [],
   "source": [
    "# 固定随机数种子\n",
    "#random.seed(42)\n",
    "\n",
    "random_gate_num = random.randint(10, 35)\n",
    "random_seed = random.randint(0, 5000)\n",
    "sd_rate = random.uniform(0.3, 0.8)\n",
    "ctrl_rate = random.uniform(0.1, 0.2)\n",
    "print(sd_rate,random_gate_num,sd_rate,ctrl_rate,random_seed)\n",
    "cir = my_random_circuit(n_qubits=8,gate_num=random_gate_num,sd_rate=sd_rate,ctrl_rate=ctrl_rate,seed=random_seed)\n",
    "X,A,G,P,Gate_name =  ConvertCircuit(circuit=cir)\n",
    "    #print(X.shape,A.shape)"
   ]
  },
  {
   "cell_type": "code",
   "execution_count": 3,
   "metadata": {},
   "outputs": [],
   "source": [
    "cir = my_random_circuit(n_qubits=8,gate_num=10,sd_rate=sd_rate,ctrl_rate=ctrl_rate,seed=random_seed)"
   ]
  },
  {
   "cell_type": "code",
   "execution_count": null,
   "metadata": {},
   "outputs": [],
   "source": [
    "X"
   ]
  },
  {
   "cell_type": "code",
   "execution_count": null,
   "metadata": {},
   "outputs": [],
   "source": [
    "ConvertCircuit(cir)"
   ]
  },
  {
   "cell_type": "code",
   "execution_count": null,
   "metadata": {},
   "outputs": [],
   "source": [
    "import numpy as np\n",
    "HIQASM = HiQASM()\n",
    "for i in range(5000):\n",
    "    random_gate_num = random.randint(10, 30)\n",
    "    random_seed = random.randint(0, 5000)\n",
    "    sd_rate = random.uniform(0.3, 0.8)\n",
    "    ctrl_rate = random.uniform(0.1, 0.2)\n",
    "    print(sd_rate,random_gate_num)\n",
    "    cir = my_random_circuit(n_qubits=8,gate_num=random_gate_num,sd_rate=sd_rate,ctrl_rate=ctrl_rate,seed=random_seed)\n",
    "    X,A,G,P,Gate_name =  ConvertCircuit(circuit=cir)\n",
    "    np.savetxt(f'./VGAE_dataset/X/X_{i}.csv', X, delimiter=',', fmt='%d')\n",
    "    np.savetxt(f'./VGAE_dataset/A/A_{i}.csv', A, delimiter=',', fmt='%d')\n",
    "    \n",
    "    cir_unbound = cir.apply_value(dict(zip(cir.params_name, np.random.uniform(0, 2*np.pi, len(cir.params_name)))))\n",
    "    #circuit_str = HIQASM.to_file(f'./VGAE_dataset/cir_img/cir{i}.hiqasm', cir_unbound, version='0.2')\n"
   ]
  },
  {
   "cell_type": "code",
   "execution_count": 14,
   "metadata": {},
   "outputs": [],
   "source": []
  },
  {
   "cell_type": "code",
   "execution_count": 7,
   "metadata": {},
   "outputs": [],
   "source": [
    "from mindquantum.core.gates import CNOT\n",
    "cir = Circuit()\n",
    "cir+=CNOT.on(1,2)"
   ]
  },
  {
   "cell_type": "code",
   "execution_count": null,
   "metadata": {},
   "outputs": [],
   "source": []
  }
 ],
 "metadata": {
  "kernelspec": {
   "display_name": "MindSpore",
   "language": "python",
   "name": "python3"
  },
  "language_info": {
   "codemirror_mode": {
    "name": "ipython",
    "version": 3
   },
   "file_extension": ".py",
   "mimetype": "text/x-python",
   "name": "python",
   "nbconvert_exporter": "python",
   "pygments_lexer": "ipython3",
   "version": "3.9.19"
  }
 },
 "nbformat": 4,
 "nbformat_minor": 2
}
