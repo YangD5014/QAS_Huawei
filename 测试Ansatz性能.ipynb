{
 "cells": [
  {
   "cell_type": "code",
   "execution_count": 2,
   "metadata": {},
   "outputs": [],
   "source": [
    "from huawei_graph_tool import my_random_circuit\n",
    "import pandas as pd\n"
   ]
  },
  {
   "cell_type": "code",
   "execution_count": null,
   "metadata": {},
   "outputs": [],
   "source": [
    "cir = my_random_circuit(n_qubits=8,gate_num=25,sd_rate=sd_rate,ctrl_rate=ctrl_rate,seed=random_seed)"
   ]
  },
  {
   "cell_type": "code",
   "execution_count": 6,
   "metadata": {},
   "outputs": [
    {
     "name": "stdout",
     "output_type": "stream",
     "text": [
      "(42, 22)\n",
      "(42, 22)\n",
      "(42, 22)\n",
      "(42, 22)\n",
      "(42, 22)\n",
      "(42, 22)\n",
      "(42, 22)\n",
      "(42, 22)\n",
      "(42, 22)\n",
      "(42, 22)\n"
     ]
    }
   ],
   "source": [
    "A_list = []\n",
    "for i in range(10):\n",
    "    X = pd.read_csv(f'./VGAE_dataset/raw/X/X_{i}.csv', header=None).values\n",
    "    print(X.shape)"
   ]
  },
  {
   "cell_type": "code",
   "execution_count": null,
   "metadata": {},
   "outputs": [],
   "source": []
  }
 ],
 "metadata": {
  "kernelspec": {
   "display_name": "MindSpore",
   "language": "python",
   "name": "python3"
  },
  "language_info": {
   "codemirror_mode": {
    "name": "ipython",
    "version": 3
   },
   "file_extension": ".py",
   "mimetype": "text/x-python",
   "name": "python",
   "nbconvert_exporter": "python",
   "pygments_lexer": "ipython3",
   "version": "3.9.19"
  }
 },
 "nbformat": 4,
 "nbformat_minor": 2
}
