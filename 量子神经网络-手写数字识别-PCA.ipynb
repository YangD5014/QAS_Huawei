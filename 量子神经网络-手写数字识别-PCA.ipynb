{
 "cells": [
  {
   "cell_type": "code",
   "execution_count": 8,
   "metadata": {},
   "outputs": [],
   "source": [
    "import numpy as np                                          \n",
    "from mindquantum.core.circuit import Circuit                \n",
    "from mindquantum.core.gates import H, RX, RY, RZ,X    \n",
    "from mindquantum.core.parameterresolver import PRGenerator  \n",
    "from mindquantum.simulator import Simulator\n",
    "from sklearn.datasets import fetch_openml\n",
    "import matplotlib.pyplot as plt\n",
    "from sklearn.decomposition import PCA\n",
    "from sklearn.model_selection import train_test_split   \n",
    "from mindquantum.algorithm.library import amplitude_encoder\n",
    "from mindquantum.algorithm.nisq import IQPEncoding\n",
    "from mindquantum.algorithm.nisq import HardwareEfficientAnsatz     \n",
    "from mindquantum.core.operators import QubitOperator           # 导入QubitOperator模块，用于构造泡利算符\n",
    "from mindquantum.core.operators import Hamiltonian             # 导入Hamiltonian模块，用于构建哈密顿量\n",
    "import mindspore as ms                                                                         # 导入mindspore库并简写为ms\n",
    "from mindquantum.framework import MQLayer,MQN2Layer                                              # 导入MQLayer\n",
    "# 导入HardwareEfficientAnsatz\n",
    "from mindquantum.core.gates import RY           \n",
    "from mindquantum.core.circuit import UN\n",
    "import torch\n",
    "from torchvision import datasets, transforms# 导入量子门RY\n",
    "from scipy.ndimage import zoom\n",
    "import random\n",
    "from data_processing import PCA_data_preprocessing"
   ]
  },
  {
   "cell_type": "code",
   "execution_count": 25,
   "metadata": {},
   "outputs": [],
   "source": [
    "# 下载和加载 MNIST 数据集\n",
    "mnist_dataset = datasets.MNIST(root='./data', train=True, download=True, transform=None)\n",
    "X_train, X_test, y_train, y_test = PCA_data_preprocessing(mnist_dataset,8)"
   ]
  },
  {
   "cell_type": "code",
   "execution_count": null,
   "metadata": {},
   "outputs": [],
   "source": [
    "prg = PRGenerator('alpha')\n",
    "nqbits = 8\n",
    "encoder = Circuit()\n",
    "encoder += UN(H, nqbits)                                  # H门作用在每1位量子比特\n",
    "for i in range(nqbits):                                   # i = 0, 1, 2, 3\n",
    "    encoder += RY(prg.new()).on(i)                 # RZ(alpha_i)门作用在第i位量子比特\n",
    "encoder = encoder.no_grad()\n",
    "encoder = encoder.as_encoder()# Encoder作为整个量子神经网络的第一层，不用对编码线路中的梯度求导数，因此加入no_grad()\n",
    "encoder.summary()                                    # 总结Encoder\n",
    "encoder.svg()"
   ]
  },
  {
   "cell_type": "code",
   "execution_count": null,
   "metadata": {},
   "outputs": [],
   "source": []
  },
  {
   "cell_type": "code",
   "execution_count": null,
   "metadata": {},
   "outputs": [],
   "source": []
  },
  {
   "cell_type": "code",
   "execution_count": null,
   "metadata": {},
   "outputs": [],
   "source": []
  },
  {
   "cell_type": "code",
   "execution_count": 10,
   "metadata": {},
   "outputs": [
    {
     "data": {
      "text/html": [
       "<pre style=\"white-space:pre;overflow-x:auto;line-height:normal;font-family:Menlo,'DejaVu Sans Mono',consolas,'Courier New',monospace\"><span style=\"color: #ff0000; text-decoration-color: #ff0000; font-weight: bold\">                                       Circuit Summary                                       </span>\n",
       "╭──────────────────────┬────────────────────────────────────────────────────────────────────╮\n",
       "│<span style=\"font-weight: bold\"> </span><span style=\"color: #3b3b95; text-decoration-color: #3b3b95; font-weight: bold\">Info</span><span style=\"font-weight: bold\">                 </span>│<span style=\"font-weight: bold\"> </span><span style=\"color: #3b3b95; text-decoration-color: #3b3b95; font-weight: bold\">value</span><span style=\"font-weight: bold\">                                                              </span>│\n",
       "├──────────────────────┼────────────────────────────────────────────────────────────────────┤\n",
       "│ <span style=\"font-weight: bold\">Number of qubit</span>      │ 8                                                                  │\n",
       "├──────────────────────┼────────────────────────────────────────────────────────────────────┤\n",
       "│ <span style=\"font-weight: bold\">Total number of gate</span> │ 38                                                                 │\n",
       "│ Barrier              │ 0                                                                  │\n",
       "│ Noise Channel        │ 0                                                                  │\n",
       "│ Measurement          │ 0                                                                  │\n",
       "├──────────────────────┼────────────────────────────────────────────────────────────────────┤\n",
       "│ <span style=\"font-weight: bold\">Parameter gate</span>       │ 24                                                                 │\n",
       "│ 24 ansatz parameters │ <span style=\"color: #48c9b0; text-decoration-color: #48c9b0\">d0_n0_0, d0_n1_0, d0_n2_0, d0_n3_0, d0_n4_0, d0_n5_0, d0_n6_0, </span>    │\n",
       "│                      │ <span style=\"color: #48c9b0; text-decoration-color: #48c9b0\">d0_n7_0, d1_n0_0, d1_n1_0...</span>                                       │\n",
       "╰──────────────────────┴────────────────────────────────────────────────────────────────────╯\n",
       "</pre>\n"
      ],
      "text/plain": [
       "\u001b[1;38;2;255;0;0m                                       Circuit Summary                                       \u001b[0m\n",
       "╭──────────────────────┬────────────────────────────────────────────────────────────────────╮\n",
       "│\u001b[1m \u001b[0m\u001b[1;38;2;59;59;149mInfo\u001b[0m\u001b[1m                \u001b[0m\u001b[1m \u001b[0m│\u001b[1m \u001b[0m\u001b[1;38;2;59;59;149mvalue\u001b[0m\u001b[1m                                                             \u001b[0m\u001b[1m \u001b[0m│\n",
       "├──────────────────────┼────────────────────────────────────────────────────────────────────┤\n",
       "│ \u001b[1mNumber of qubit\u001b[0m      │ 8                                                                  │\n",
       "├──────────────────────┼────────────────────────────────────────────────────────────────────┤\n",
       "│ \u001b[1mTotal number of gate\u001b[0m │ 38                                                                 │\n",
       "│ Barrier              │ 0                                                                  │\n",
       "│ Noise Channel        │ 0                                                                  │\n",
       "│ Measurement          │ 0                                                                  │\n",
       "├──────────────────────┼────────────────────────────────────────────────────────────────────┤\n",
       "│ \u001b[1mParameter gate\u001b[0m       │ 24                                                                 │\n",
       "│ 24 ansatz parameters │ \u001b[38;2;72;201;176md0_n0_0, d0_n1_0, d0_n2_0, d0_n3_0, d0_n4_0, d0_n5_0, d0_n6_0, \u001b[0m    │\n",
       "│                      │ \u001b[38;2;72;201;176md0_n7_0, d1_n0_0, d1_n1_0...\u001b[0m                                       │\n",
       "╰──────────────────────┴────────────────────────────────────────────────────────────────────╯\n"
      ]
     },
     "metadata": {},
     "output_type": "display_data"
    }
   ],
   "source": [
    "ansatz = HardwareEfficientAnsatz(8, single_rot_gate_seq=[RY], entangle_gate=X, depth=2).circuit   \n",
    "ansatz.summary()                                    # 总结Ansatz"
   ]
  },
  {
   "cell_type": "code",
   "execution_count": null,
   "metadata": {},
   "outputs": [],
   "source": []
  },
  {
   "cell_type": "code",
   "execution_count": 18,
   "metadata": {},
   "outputs": [],
   "source": []
  },
  {
   "cell_type": "code",
   "execution_count": 29,
   "metadata": {},
   "outputs": [],
   "source": [
    "ansatz = HardwareEfficientAnsatz(nqbits, single_rot_gate_seq=[RY], entangle_gate=X, depth=2).circuit     # 通过\n",
    "hams = [Hamiltonian(QubitOperator(f'Z{i}')) for i in [0,1]]\n",
    "ansatz = ansatz.as_ansatz()\n",
    "ms.set_context(mode=ms.PYNATIVE_MODE, device_target=\"CPU\")\n",
    "ms.set_seed(2)                                                     # 设置生成随机数的种子\n",
    "circuit = encoder+ ansatz.as_ansatz()         \n",
    "sim = Simulator('mqvector', n_qubits=nqbits)\n",
    "grad_ops = sim.get_expectation_with_grad(hams,\n",
    "                                         circuit,\n",
    "                                         parallel_worker=5)\n",
    "QuantumNet = MQLayer(grad_ops)          # 搭建量子神经网络"
   ]
  },
  {
   "cell_type": "code",
   "execution_count": null,
   "metadata": {},
   "outputs": [],
   "source": []
  },
  {
   "cell_type": "code",
   "execution_count": null,
   "metadata": {},
   "outputs": [],
   "source": []
  },
  {
   "cell_type": "code",
   "execution_count": null,
   "metadata": {},
   "outputs": [],
   "source": [
    "from mindspore.nn import SoftmaxCrossEntropyWithLogits                         # 导入SoftmaxCrossEntropyWithLogits模块，用于定义损失函数\n",
    "from mindspore.nn import Adam                                                  # 导入Adam模块用于定义优化参数\n",
    "from mindspore.train import Accuracy, Model, LossMonitor                       # 导入Accuracy模块，用于评估预测准确率\n",
    "import mindspore as ms\n",
    "from mindspore.dataset import NumpySlicesDataset\n",
    "from torch.utils.data import DataLoader# 导入NumpySlicesDataset模块，用于创建模型可以识别的数据集\n",
    "\n",
    "\n",
    "\n",
    "loss = SoftmaxCrossEntropyWithLogits(sparse=True, reduction='mean')            # 通过SoftmaxCrossEntropyWithLogits定义损失函数，sparse=True表示指定标签使用稀疏格式，reduction='mean'表示损失函数的降维方法为求平均值\n",
    "opti = Adam(QuantumNet.trainable_params(), learning_rate=0.01)                  # 通过Adam优化器优化Ansatz中的参数，需要优化的是Quantumnet中可训练的参数，学习率设为0.1\n",
    "\n",
    "model = Model(QuantumNet, loss, opti, metrics={'Acc': Accuracy()})             # 建立模型：将MindSpore Quantum构建的量子机器学习层和MindSpore的算子组合，构成一张更大的机器学习网络\n",
    "\n",
    "\n",
    "train_loader = NumpySlicesDataset({'features': X_train, 'labels': y_train}, shuffle=False).batch(20) # 通过NumpySlicesDataset创建训练样本的数据集，shuffle=False表示不打乱数据，batch(5)表示训练集每批次样本点有5个\n",
    "test_loader = NumpySlicesDataset({'features': X_test, 'labels': y_test},shuffle=False).batch(20)                   # 通过NumpySlicesDataset创建测试样本的数据集，batch(5)表示测试集每批次样本点有5个\n",
    "\n",
    "\n",
    "class StepAcc(ms.Callback):                                                      # 定义一个关于每一步准确率的回调函数\n",
    "    def __init__(self, model, test_loader):\n",
    "        self.model = model\n",
    "        self.test_loader = test_loader\n",
    "        self.acc = []\n",
    "\n",
    "    def on_train_step_end(self, run_context):\n",
    "        \n",
    "        self.acc.append(self.model.eval(self.test_loader, dataset_sink_mode=False)['Acc'])\n",
    "        # print(f'ACC = {self.acc[-1]}')\n",
    "\n",
    "\n",
    "monitor = LossMonitor(20)                                                       # 监控训练中的损失，每16步打印一次损失值\n",
    "\n",
    "acc = StepAcc(model, test_loader)                                               # 使用建立的模型和测试样本计算预测的准确率\n",
    "\n",
    "model.train(20, train_loader, callbacks=[monitor, acc], dataset_sink_mode=False)# 将上述建立好的模型训练20次"
   ]
  },
  {
   "cell_type": "code",
   "execution_count": null,
   "metadata": {},
   "outputs": [],
   "source": []
  },
  {
   "cell_type": "code",
   "execution_count": null,
   "metadata": {},
   "outputs": [],
   "source": []
  },
  {
   "cell_type": "code",
   "execution_count": null,
   "metadata": {},
   "outputs": [],
   "source": []
  },
  {
   "cell_type": "code",
   "execution_count": null,
   "metadata": {},
   "outputs": [],
   "source": [
    "plt.plot(acc.acc)\n",
    "plt.title('Statistics of accuracy', fontsize=20)\n",
    "plt.xlabel('Steps', fontsize=20)\n",
    "plt.ylabel('Accuracy', fontsize=20)"
   ]
  },
  {
   "cell_type": "code",
   "execution_count": 1,
   "metadata": {},
   "outputs": [
    {
     "name": "stderr",
     "output_type": "stream",
     "text": [
      "/opt/miniconda3/envs/MindSpore/lib/python3.9/site-packages/mindquantum/simulator/__init__.py:17: UserWarning: Unable import mqvector gpu backend due to: cannot import name '_mq_vector_gpu' from partially initialized module 'mindquantum' (most likely due to a circular import) (/opt/miniconda3/envs/MindSpore/lib/python3.9/site-packages/mindquantum/__init__.py)\n",
      "  from .available_simulator import SUPPORTED_SIMULATOR\n"
     ]
    }
   ],
   "source": [
    "from Test_tool import  Test_ansatz"
   ]
  },
  {
   "cell_type": "code",
   "execution_count": 2,
   "metadata": {},
   "outputs": [
    {
     "name": "stdout",
     "output_type": "stream",
     "text": [
      "epoch: 1 step: 20, loss is 0.7400476932525635\n",
      "epoch: 1 step: 40, loss is 0.9633622169494629\n",
      "epoch: 2 step: 11, loss is 0.7170447111129761\n",
      "epoch: 2 step: 31, loss is 0.6060007214546204\n",
      "epoch: 3 step: 2, loss is 0.7258358001708984\n",
      "epoch: 3 step: 22, loss is 0.5848797559738159\n",
      "epoch: 3 step: 42, loss is 0.5929414629936218\n",
      "epoch: 4 step: 13, loss is 0.5635959506034851\n",
      "epoch: 4 step: 33, loss is 0.5059696435928345\n",
      "epoch: 5 step: 4, loss is 0.570684552192688\n",
      "epoch: 5 step: 24, loss is 0.5436649322509766\n",
      "epoch: 5 step: 44, loss is 0.6677452921867371\n",
      "epoch: 6 step: 15, loss is 0.455635130405426\n",
      "epoch: 6 step: 35, loss is 0.535981297492981\n",
      "epoch: 7 step: 6, loss is 0.5726610422134399\n",
      "epoch: 7 step: 26, loss is 0.5066354274749756\n",
      "epoch: 7 step: 46, loss is 0.4913293421268463\n",
      "epoch: 8 step: 17, loss is 0.47034716606140137\n",
      "epoch: 8 step: 37, loss is 0.548967182636261\n",
      "epoch: 9 step: 8, loss is 0.5792793035507202\n",
      "epoch: 9 step: 28, loss is 0.5690670609474182\n",
      "epoch: 9 step: 48, loss is 0.4915076792240143\n",
      "epoch: 10 step: 19, loss is 0.6203581690788269\n",
      "epoch: 10 step: 39, loss is 0.6917415857315063\n",
      "epoch: 11 step: 10, loss is 0.5736657977104187\n",
      "epoch: 11 step: 30, loss is 0.5631425380706787\n",
      "epoch: 12 step: 1, loss is 0.5429600477218628\n",
      "epoch: 12 step: 21, loss is 0.5717839002609253\n",
      "epoch: 12 step: 41, loss is 0.5999746918678284\n",
      "epoch: 13 step: 12, loss is 0.6662073135375977\n",
      "epoch: 13 step: 32, loss is 0.47640857100486755\n",
      "epoch: 14 step: 3, loss is 0.4490136504173279\n",
      "epoch: 14 step: 23, loss is 0.5514858365058899\n",
      "epoch: 14 step: 43, loss is 0.47082608938217163\n",
      "epoch: 15 step: 14, loss is 0.5163155198097229\n",
      "epoch: 15 step: 34, loss is 0.5346611142158508\n"
     ]
    }
   ],
   "source": [
    "accz = Test_ansatz()\n"
   ]
  },
  {
   "cell_type": "code",
   "execution_count": 7,
   "metadata": {},
   "outputs": [
    {
     "data": {
      "text/plain": [
       "0.7510373443983402"
      ]
     },
     "execution_count": 7,
     "metadata": {},
     "output_type": "execute_result"
    }
   ],
   "source": [
    "accz[-1]"
   ]
  },
  {
   "cell_type": "code",
   "execution_count": null,
   "metadata": {},
   "outputs": [],
   "source": []
  }
 ],
 "metadata": {
  "kernelspec": {
   "display_name": "MindSpore",
   "language": "python",
   "name": "python3"
  },
  "language_info": {
   "codemirror_mode": {
    "name": "ipython",
    "version": 3
   },
   "file_extension": ".py",
   "mimetype": "text/x-python",
   "name": "python",
   "nbconvert_exporter": "python",
   "pygments_lexer": "ipython3",
   "version": "3.9.19"
  }
 },
 "nbformat": 4,
 "nbformat_minor": 2
}
