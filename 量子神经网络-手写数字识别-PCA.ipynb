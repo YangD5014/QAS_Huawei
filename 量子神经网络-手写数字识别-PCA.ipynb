{
 "cells": [
  {
   "cell_type": "code",
   "execution_count": 9,
   "metadata": {},
   "outputs": [],
   "source": [
    "import numpy as np                                          \n",
    "from mindquantum.core.circuit import Circuit                \n",
    "from mindquantum.core.gates import H, RX, RY, RZ,X    \n",
    "from mindquantum.core.parameterresolver import PRGenerator  \n",
    "from mindquantum.simulator import Simulator\n",
    "from sklearn.datasets import fetch_openml\n",
    "import matplotlib.pyplot as plt\n",
    "from sklearn.decomposition import PCA\n",
    "from sklearn.model_selection import train_test_split   \n",
    "from mindquantum.algorithm.library import amplitude_encoder\n",
    "from mindquantum.algorithm.nisq import IQPEncoding\n",
    "from mindquantum.algorithm.nisq import HardwareEfficientAnsatz     \n",
    "from mindquantum.core.operators import QubitOperator           # 导入QubitOperator模块，用于构造泡利算符\n",
    "from mindquantum.core.operators import Hamiltonian             # 导入Hamiltonian模块，用于构建哈密顿量\n",
    "import mindspore as ms                                                                         # 导入mindspore库并简写为ms\n",
    "from mindquantum.framework import MQLayer,MQN2Layer                                              # 导入MQLayer\n",
    "# 导入HardwareEfficientAnsatz\n",
    "from mindquantum.core.gates import RY           \n",
    "from mindquantum.core.circuit import UN\n",
    "import torch\n",
    "from torchvision import datasets, transforms# 导入量子门RY\n",
    "from scipy.ndimage import zoom\n",
    "import random\n",
    "from data_processing import PCA_data_preprocessing"
   ]
  },
  {
   "cell_type": "code",
   "execution_count": 4,
   "metadata": {},
   "outputs": [],
   "source": [
    "# 下载和加载 MNIST 数据集\n",
    "mnist_dataset = datasets.MNIST(root='./data', train=True, download=True, transform=None)\n",
    "X_train, X_test, y_train, y_test = PCA_data_preprocessing(mnist_dataset,8)"
   ]
  },
  {
   "cell_type": "code",
   "execution_count": 5,
   "metadata": {},
   "outputs": [
    {
     "data": {
      "text/html": [
       "<pre style=\"white-space:pre;overflow-x:auto;line-height:normal;font-family:Menlo,'DejaVu Sans Mono',consolas,'Courier New',monospace\"><span style=\"color: #ff0000; text-decoration-color: #ff0000; font-weight: bold\">                                     Circuit Summary                                     </span>\n",
       "╭──────────────────────┬────────────────────────────────────────────────────────────────╮\n",
       "│<span style=\"font-weight: bold\"> </span><span style=\"color: #3b3b95; text-decoration-color: #3b3b95; font-weight: bold\">Info</span><span style=\"font-weight: bold\">                 </span>│<span style=\"font-weight: bold\"> </span><span style=\"color: #3b3b95; text-decoration-color: #3b3b95; font-weight: bold\">value</span><span style=\"font-weight: bold\">                                                          </span>│\n",
       "├──────────────────────┼────────────────────────────────────────────────────────────────┤\n",
       "│ <span style=\"font-weight: bold\">Number of qubit</span>      │ 8                                                              │\n",
       "├──────────────────────┼────────────────────────────────────────────────────────────────┤\n",
       "│ <span style=\"font-weight: bold\">Total number of gate</span> │ 16                                                             │\n",
       "│ Barrier              │ 0                                                              │\n",
       "│ Noise Channel        │ 0                                                              │\n",
       "│ Measurement          │ 0                                                              │\n",
       "├──────────────────────┼────────────────────────────────────────────────────────────────┤\n",
       "│ <span style=\"font-weight: bold\">Parameter gate</span>       │ 8                                                              │\n",
       "│ 8 encoder parameters │ <span style=\"color: #ffc857; text-decoration-color: #ffc857\">alpha0, alpha1, alpha2, alpha3, alpha4, alpha5, alpha6, alpha7</span> │\n",
       "╰──────────────────────┴────────────────────────────────────────────────────────────────╯\n",
       "</pre>\n"
      ],
      "text/plain": [
       "\u001b[1;38;2;255;0;0m                                     Circuit Summary                                     \u001b[0m\n",
       "╭──────────────────────┬────────────────────────────────────────────────────────────────╮\n",
       "│\u001b[1m \u001b[0m\u001b[1;38;2;59;59;149mInfo\u001b[0m\u001b[1m                \u001b[0m\u001b[1m \u001b[0m│\u001b[1m \u001b[0m\u001b[1;38;2;59;59;149mvalue\u001b[0m\u001b[1m                                                         \u001b[0m\u001b[1m \u001b[0m│\n",
       "├──────────────────────┼────────────────────────────────────────────────────────────────┤\n",
       "│ \u001b[1mNumber of qubit\u001b[0m      │ 8                                                              │\n",
       "├──────────────────────┼────────────────────────────────────────────────────────────────┤\n",
       "│ \u001b[1mTotal number of gate\u001b[0m │ 16                                                             │\n",
       "│ Barrier              │ 0                                                              │\n",
       "│ Noise Channel        │ 0                                                              │\n",
       "│ Measurement          │ 0                                                              │\n",
       "├──────────────────────┼────────────────────────────────────────────────────────────────┤\n",
       "│ \u001b[1mParameter gate\u001b[0m       │ 8                                                              │\n",
       "│ 8 encoder parameters │ \u001b[38;2;255;200;87malpha0, alpha1, alpha2, alpha3, alpha4, alpha5, alpha6, alpha7\u001b[0m │\n",
       "╰──────────────────────┴────────────────────────────────────────────────────────────────╯\n"
      ]
     },
     "metadata": {},
     "output_type": "display_data"
    },
    {
     "data": {
      "image/svg+xml": [
       "<svg xmlns=\"http://www.w3.org/2000/svg\" width=\"256.8\" height=\"500.0\" xmlns:xlink=\"http://www.w3.org/1999/xlink\"><rect x=\"0\" y=\"0.0\" width=\"256.8\" height=\"500.0\" fill=\"#ffffff\" /><text x=\"20.0\" y=\"40.0\" font-size=\"16px\" dominant-baseline=\"middle\" text-anchor=\"start\" font-family=\"Arial\" font-weight=\"normal\" fill=\"#252b3a\" >q0: </text><text x=\"20.0\" y=\"100.0\" font-size=\"16px\" dominant-baseline=\"middle\" text-anchor=\"start\" font-family=\"Arial\" font-weight=\"normal\" fill=\"#252b3a\" >q1: </text><text x=\"20.0\" y=\"160.0\" font-size=\"16px\" dominant-baseline=\"middle\" text-anchor=\"start\" font-family=\"Arial\" font-weight=\"normal\" fill=\"#252b3a\" >q2: </text><text x=\"20.0\" y=\"220.0\" font-size=\"16px\" dominant-baseline=\"middle\" text-anchor=\"start\" font-family=\"Arial\" font-weight=\"normal\" fill=\"#252b3a\" >q3: </text><text x=\"20.0\" y=\"280.0\" font-size=\"16px\" dominant-baseline=\"middle\" text-anchor=\"start\" font-family=\"Arial\" font-weight=\"normal\" fill=\"#252b3a\" >q4: </text><text x=\"20.0\" y=\"340.0\" font-size=\"16px\" dominant-baseline=\"middle\" text-anchor=\"start\" font-family=\"Arial\" font-weight=\"normal\" fill=\"#252b3a\" >q5: </text><text x=\"20.0\" y=\"400.0\" font-size=\"16px\" dominant-baseline=\"middle\" text-anchor=\"start\" font-family=\"Arial\" font-weight=\"normal\" fill=\"#252b3a\" >q6: </text><text x=\"20.0\" y=\"460.0\" font-size=\"16px\" dominant-baseline=\"middle\" text-anchor=\"start\" font-family=\"Arial\" font-weight=\"normal\" fill=\"#252b3a\" >q7: </text><line x1=\"48.8\" x2=\"236.8\" y1=\"40.0\" y2=\"40.0\" stroke=\"#adb0b8\" stroke-width=\"1\" /><line x1=\"48.8\" x2=\"236.8\" y1=\"100.0\" y2=\"100.0\" stroke=\"#adb0b8\" stroke-width=\"1\" /><line x1=\"48.8\" x2=\"236.8\" y1=\"160.0\" y2=\"160.0\" stroke=\"#adb0b8\" stroke-width=\"1\" /><line x1=\"48.8\" x2=\"236.8\" y1=\"220.0\" y2=\"220.0\" stroke=\"#adb0b8\" stroke-width=\"1\" /><line x1=\"48.8\" x2=\"236.8\" y1=\"280.0\" y2=\"280.0\" stroke=\"#adb0b8\" stroke-width=\"1\" /><line x1=\"48.8\" x2=\"236.8\" y1=\"340.0\" y2=\"340.0\" stroke=\"#adb0b8\" stroke-width=\"1\" /><line x1=\"48.8\" x2=\"236.8\" y1=\"400.0\" y2=\"400.0\" stroke=\"#adb0b8\" stroke-width=\"1\" /><line x1=\"48.8\" x2=\"236.8\" y1=\"460.0\" y2=\"460.0\" stroke=\"#adb0b8\" stroke-width=\"1\" /><rect x=\"72.8\" y=\"20.0\" width=\"40.0\" height=\"40\" rx=\"4\" ry=\"4\" stroke=\"#ffffff\" stroke-width=\"0\" fill=\"#5e7ce0\" fill-opacity=\"1\" /><text x=\"92.8\" y=\"40.0\" font-size=\"20px\" dominant-baseline=\"middle\" text-anchor=\"middle\" font-family=\"Arial\" font-weight=\"normal\" fill=\"#ffffff\" >H </text><rect x=\"72.8\" y=\"80.0\" width=\"40.0\" height=\"40\" rx=\"4\" ry=\"4\" stroke=\"#ffffff\" stroke-width=\"0\" fill=\"#5e7ce0\" fill-opacity=\"1\" /><text x=\"92.8\" y=\"100.0\" font-size=\"20px\" dominant-baseline=\"middle\" text-anchor=\"middle\" font-family=\"Arial\" font-weight=\"normal\" fill=\"#ffffff\" >H </text><rect x=\"72.8\" y=\"140.0\" width=\"40.0\" height=\"40\" rx=\"4\" ry=\"4\" stroke=\"#ffffff\" stroke-width=\"0\" fill=\"#5e7ce0\" fill-opacity=\"1\" /><text x=\"92.8\" y=\"160.0\" font-size=\"20px\" dominant-baseline=\"middle\" text-anchor=\"middle\" font-family=\"Arial\" font-weight=\"normal\" fill=\"#ffffff\" >H </text><rect x=\"72.8\" y=\"200.0\" width=\"40.0\" height=\"40\" rx=\"4\" ry=\"4\" stroke=\"#ffffff\" stroke-width=\"0\" fill=\"#5e7ce0\" fill-opacity=\"1\" /><text x=\"92.8\" y=\"220.0\" font-size=\"20px\" dominant-baseline=\"middle\" text-anchor=\"middle\" font-family=\"Arial\" font-weight=\"normal\" fill=\"#ffffff\" >H </text><rect x=\"72.8\" y=\"260.0\" width=\"40.0\" height=\"40\" rx=\"4\" ry=\"4\" stroke=\"#ffffff\" stroke-width=\"0\" fill=\"#5e7ce0\" fill-opacity=\"1\" /><text x=\"92.8\" y=\"280.0\" font-size=\"20px\" dominant-baseline=\"middle\" text-anchor=\"middle\" font-family=\"Arial\" font-weight=\"normal\" fill=\"#ffffff\" >H </text><rect x=\"72.8\" y=\"320.0\" width=\"40.0\" height=\"40\" rx=\"4\" ry=\"4\" stroke=\"#ffffff\" stroke-width=\"0\" fill=\"#5e7ce0\" fill-opacity=\"1\" /><text x=\"92.8\" y=\"340.0\" font-size=\"20px\" dominant-baseline=\"middle\" text-anchor=\"middle\" font-family=\"Arial\" font-weight=\"normal\" fill=\"#ffffff\" >H </text><rect x=\"72.8\" y=\"380.0\" width=\"40.0\" height=\"40\" rx=\"4\" ry=\"4\" stroke=\"#ffffff\" stroke-width=\"0\" fill=\"#5e7ce0\" fill-opacity=\"1\" /><text x=\"92.8\" y=\"400.0\" font-size=\"20px\" dominant-baseline=\"middle\" text-anchor=\"middle\" font-family=\"Arial\" font-weight=\"normal\" fill=\"#ffffff\" >H </text><rect x=\"72.8\" y=\"440.0\" width=\"40.0\" height=\"40\" rx=\"4\" ry=\"4\" stroke=\"#ffffff\" stroke-width=\"0\" fill=\"#5e7ce0\" fill-opacity=\"1\" /><text x=\"92.8\" y=\"460.0\" font-size=\"20px\" dominant-baseline=\"middle\" text-anchor=\"middle\" font-family=\"Arial\" font-weight=\"normal\" fill=\"#ffffff\" >H </text><rect x=\"132.8\" y=\"20.0\" width=\"80.0\" height=\"40\" rx=\"4\" ry=\"4\" stroke=\"#ffffff\" stroke-width=\"0\" fill=\"#fac209\" fill-opacity=\"1\" /><text x=\"172.8\" y=\"36.0\" font-size=\"20px\" dominant-baseline=\"middle\" text-anchor=\"middle\" font-family=\"Arial\" font-weight=\"normal\" fill=\"#ffffff\" >RY </text><text x=\"172.8\" y=\"52.0\" font-size=\"14.0px\" dominant-baseline=\"middle\" text-anchor=\"middle\" font-family=\"Arial\" font-weight=\"normal\" fill=\"#ffffff\" >alpha0 </text><rect x=\"132.8\" y=\"80.0\" width=\"80.0\" height=\"40\" rx=\"4\" ry=\"4\" stroke=\"#ffffff\" stroke-width=\"0\" fill=\"#fac209\" fill-opacity=\"1\" /><text x=\"172.8\" y=\"96.0\" font-size=\"20px\" dominant-baseline=\"middle\" text-anchor=\"middle\" font-family=\"Arial\" font-weight=\"normal\" fill=\"#ffffff\" >RY </text><text x=\"172.8\" y=\"112.0\" font-size=\"14.0px\" dominant-baseline=\"middle\" text-anchor=\"middle\" font-family=\"Arial\" font-weight=\"normal\" fill=\"#ffffff\" >alpha1 </text><rect x=\"132.8\" y=\"140.0\" width=\"80.0\" height=\"40\" rx=\"4\" ry=\"4\" stroke=\"#ffffff\" stroke-width=\"0\" fill=\"#fac209\" fill-opacity=\"1\" /><text x=\"172.8\" y=\"156.0\" font-size=\"20px\" dominant-baseline=\"middle\" text-anchor=\"middle\" font-family=\"Arial\" font-weight=\"normal\" fill=\"#ffffff\" >RY </text><text x=\"172.8\" y=\"172.0\" font-size=\"14.0px\" dominant-baseline=\"middle\" text-anchor=\"middle\" font-family=\"Arial\" font-weight=\"normal\" fill=\"#ffffff\" >alpha2 </text><rect x=\"132.8\" y=\"200.0\" width=\"80.0\" height=\"40\" rx=\"4\" ry=\"4\" stroke=\"#ffffff\" stroke-width=\"0\" fill=\"#fac209\" fill-opacity=\"1\" /><text x=\"172.8\" y=\"216.0\" font-size=\"20px\" dominant-baseline=\"middle\" text-anchor=\"middle\" font-family=\"Arial\" font-weight=\"normal\" fill=\"#ffffff\" >RY </text><text x=\"172.8\" y=\"232.0\" font-size=\"14.0px\" dominant-baseline=\"middle\" text-anchor=\"middle\" font-family=\"Arial\" font-weight=\"normal\" fill=\"#ffffff\" >alpha3 </text><rect x=\"132.8\" y=\"260.0\" width=\"80.0\" height=\"40\" rx=\"4\" ry=\"4\" stroke=\"#ffffff\" stroke-width=\"0\" fill=\"#fac209\" fill-opacity=\"1\" /><text x=\"172.8\" y=\"276.0\" font-size=\"20px\" dominant-baseline=\"middle\" text-anchor=\"middle\" font-family=\"Arial\" font-weight=\"normal\" fill=\"#ffffff\" >RY </text><text x=\"172.8\" y=\"292.0\" font-size=\"14.0px\" dominant-baseline=\"middle\" text-anchor=\"middle\" font-family=\"Arial\" font-weight=\"normal\" fill=\"#ffffff\" >alpha4 </text><rect x=\"132.8\" y=\"320.0\" width=\"80.0\" height=\"40\" rx=\"4\" ry=\"4\" stroke=\"#ffffff\" stroke-width=\"0\" fill=\"#fac209\" fill-opacity=\"1\" /><text x=\"172.8\" y=\"336.0\" font-size=\"20px\" dominant-baseline=\"middle\" text-anchor=\"middle\" font-family=\"Arial\" font-weight=\"normal\" fill=\"#ffffff\" >RY </text><text x=\"172.8\" y=\"352.0\" font-size=\"14.0px\" dominant-baseline=\"middle\" text-anchor=\"middle\" font-family=\"Arial\" font-weight=\"normal\" fill=\"#ffffff\" >alpha5 </text><rect x=\"132.8\" y=\"380.0\" width=\"80.0\" height=\"40\" rx=\"4\" ry=\"4\" stroke=\"#ffffff\" stroke-width=\"0\" fill=\"#fac209\" fill-opacity=\"1\" /><text x=\"172.8\" y=\"396.0\" font-size=\"20px\" dominant-baseline=\"middle\" text-anchor=\"middle\" font-family=\"Arial\" font-weight=\"normal\" fill=\"#ffffff\" >RY </text><text x=\"172.8\" y=\"412.0\" font-size=\"14.0px\" dominant-baseline=\"middle\" text-anchor=\"middle\" font-family=\"Arial\" font-weight=\"normal\" fill=\"#ffffff\" >alpha6 </text><rect x=\"132.8\" y=\"440.0\" width=\"80.0\" height=\"40\" rx=\"4\" ry=\"4\" stroke=\"#ffffff\" stroke-width=\"0\" fill=\"#fac209\" fill-opacity=\"1\" /><text x=\"172.8\" y=\"456.0\" font-size=\"20px\" dominant-baseline=\"middle\" text-anchor=\"middle\" font-family=\"Arial\" font-weight=\"normal\" fill=\"#ffffff\" >RY </text><text x=\"172.8\" y=\"472.0\" font-size=\"14.0px\" dominant-baseline=\"middle\" text-anchor=\"middle\" font-family=\"Arial\" font-weight=\"normal\" fill=\"#ffffff\" >alpha7 </text></svg>"
      ],
      "text/plain": [
       "<mindquantum.io.display.circuit_svg_drawer.SVGCircuit at 0x31ee2fbe0>"
      ]
     },
     "execution_count": 5,
     "metadata": {},
     "output_type": "execute_result"
    }
   ],
   "source": [
    "prg = PRGenerator('alpha')\n",
    "nqbits = 8\n",
    "encoder = Circuit()\n",
    "encoder += UN(H, nqbits)                                  # H门作用在每1位量子比特\n",
    "for i in range(nqbits):                                   # i = 0, 1, 2, 3\n",
    "    encoder += RY(prg.new()).on(i)                 # RZ(alpha_i)门作用在第i位量子比特\n",
    "encoder = encoder.no_grad()\n",
    "encoder = encoder.as_encoder()# Encoder作为整个量子神经网络的第一层，不用对编码线路中的梯度求导数，因此加入no_grad()\n",
    "encoder.summary()                                    # 总结Encoder\n",
    "encoder.svg()"
   ]
  },
  {
   "cell_type": "code",
   "execution_count": null,
   "metadata": {},
   "outputs": [],
   "source": []
  },
  {
   "cell_type": "code",
   "execution_count": null,
   "metadata": {},
   "outputs": [],
   "source": []
  },
  {
   "cell_type": "code",
   "execution_count": null,
   "metadata": {},
   "outputs": [],
   "source": []
  },
  {
   "cell_type": "code",
   "execution_count": 6,
   "metadata": {},
   "outputs": [
    {
     "data": {
      "text/html": [
       "<pre style=\"white-space:pre;overflow-x:auto;line-height:normal;font-family:Menlo,'DejaVu Sans Mono',consolas,'Courier New',monospace\"><span style=\"color: #ff0000; text-decoration-color: #ff0000; font-weight: bold\">                                       Circuit Summary                                       </span>\n",
       "╭──────────────────────┬────────────────────────────────────────────────────────────────────╮\n",
       "│<span style=\"font-weight: bold\"> </span><span style=\"color: #3b3b95; text-decoration-color: #3b3b95; font-weight: bold\">Info</span><span style=\"font-weight: bold\">                 </span>│<span style=\"font-weight: bold\"> </span><span style=\"color: #3b3b95; text-decoration-color: #3b3b95; font-weight: bold\">value</span><span style=\"font-weight: bold\">                                                              </span>│\n",
       "├──────────────────────┼────────────────────────────────────────────────────────────────────┤\n",
       "│ <span style=\"font-weight: bold\">Number of qubit</span>      │ 8                                                                  │\n",
       "├──────────────────────┼────────────────────────────────────────────────────────────────────┤\n",
       "│ <span style=\"font-weight: bold\">Total number of gate</span> │ 38                                                                 │\n",
       "│ Barrier              │ 0                                                                  │\n",
       "│ Noise Channel        │ 0                                                                  │\n",
       "│ Measurement          │ 0                                                                  │\n",
       "├──────────────────────┼────────────────────────────────────────────────────────────────────┤\n",
       "│ <span style=\"font-weight: bold\">Parameter gate</span>       │ 24                                                                 │\n",
       "│ 24 ansatz parameters │ <span style=\"color: #48c9b0; text-decoration-color: #48c9b0\">d0_n0_0, d0_n1_0, d0_n2_0, d0_n3_0, d0_n4_0, d0_n5_0, d0_n6_0, </span>    │\n",
       "│                      │ <span style=\"color: #48c9b0; text-decoration-color: #48c9b0\">d0_n7_0, d1_n0_0, d1_n1_0...</span>                                       │\n",
       "╰──────────────────────┴────────────────────────────────────────────────────────────────────╯\n",
       "</pre>\n"
      ],
      "text/plain": [
       "\u001b[1;38;2;255;0;0m                                       Circuit Summary                                       \u001b[0m\n",
       "╭──────────────────────┬────────────────────────────────────────────────────────────────────╮\n",
       "│\u001b[1m \u001b[0m\u001b[1;38;2;59;59;149mInfo\u001b[0m\u001b[1m                \u001b[0m\u001b[1m \u001b[0m│\u001b[1m \u001b[0m\u001b[1;38;2;59;59;149mvalue\u001b[0m\u001b[1m                                                             \u001b[0m\u001b[1m \u001b[0m│\n",
       "├──────────────────────┼────────────────────────────────────────────────────────────────────┤\n",
       "│ \u001b[1mNumber of qubit\u001b[0m      │ 8                                                                  │\n",
       "├──────────────────────┼────────────────────────────────────────────────────────────────────┤\n",
       "│ \u001b[1mTotal number of gate\u001b[0m │ 38                                                                 │\n",
       "│ Barrier              │ 0                                                                  │\n",
       "│ Noise Channel        │ 0                                                                  │\n",
       "│ Measurement          │ 0                                                                  │\n",
       "├──────────────────────┼────────────────────────────────────────────────────────────────────┤\n",
       "│ \u001b[1mParameter gate\u001b[0m       │ 24                                                                 │\n",
       "│ 24 ansatz parameters │ \u001b[38;2;72;201;176md0_n0_0, d0_n1_0, d0_n2_0, d0_n3_0, d0_n4_0, d0_n5_0, d0_n6_0, \u001b[0m    │\n",
       "│                      │ \u001b[38;2;72;201;176md0_n7_0, d1_n0_0, d1_n1_0...\u001b[0m                                       │\n",
       "╰──────────────────────┴────────────────────────────────────────────────────────────────────╯\n"
      ]
     },
     "metadata": {},
     "output_type": "display_data"
    }
   ],
   "source": [
    "ansatz = HardwareEfficientAnsatz(8, single_rot_gate_seq=[RY], entangle_gate=X, depth=2).circuit   \n",
    "ansatz.summary()                                    # 总结Ansatz"
   ]
  },
  {
   "cell_type": "code",
   "execution_count": null,
   "metadata": {},
   "outputs": [],
   "source": []
  },
  {
   "cell_type": "code",
   "execution_count": 10,
   "metadata": {},
   "outputs": [],
   "source": [
    "from mindspore.nn import Adam, TrainOneStepCell    "
   ]
  },
  {
   "cell_type": "code",
   "execution_count": 11,
   "metadata": {},
   "outputs": [],
   "source": [
    "ansatz = HardwareEfficientAnsatz(nqbits, single_rot_gate_seq=[RY], entangle_gate=X, depth=2).circuit     # 通过\n",
    "hams = [Hamiltonian(QubitOperator(f'Z{i}')) for i in [0,1]]\n",
    "ansatz = ansatz.as_ansatz()\n",
    "ms.set_context(mode=ms.PYNATIVE_MODE, device_target=\"CPU\")\n",
    "ms.set_seed(2)                                                     # 设置生成随机数的种子\n",
    "circuit = encoder+ ansatz.as_ansatz()         \n",
    "sim = Simulator('mqvector', n_qubits=nqbits)\n",
    "grad_ops = sim.get_expectation_with_grad(hams,\n",
    "                                         circuit,\n",
    "                                         parallel_worker=5)\n",
    "QuantumNet = MQLayer(grad_ops)          # 搭建量子神经网络"
   ]
  },
  {
   "cell_type": "code",
   "execution_count": 12,
   "metadata": {},
   "outputs": [],
   "source": [
    "opti = Adam(QuantumNet.trainable_params(), learning_rate=0.5)     # 需要优化的是Quantumnet中可训练的参数，学习率设为0.5\n",
    "net = TrainOneStepCell(QuantumNet, opti,return_grad=True)"
   ]
  },
  {
   "cell_type": "code",
   "execution_count": 13,
   "metadata": {},
   "outputs": [
    {
     "data": {
      "text/plain": [
       "TrainOneStepCell<\n",
       "  (network): MQLayer<\n",
       "    (evolution): MQOps<8 qubits mqvector VQA Operator>\n",
       "    >\n",
       "  (optimizer): Adam<>\n",
       "  (grad_reducer): Identity<>\n",
       "  >"
      ]
     },
     "execution_count": 13,
     "metadata": {},
     "output_type": "execute_result"
    }
   ],
   "source": [
    "net.apply("
   ]
  },
  {
   "cell_type": "code",
   "execution_count": null,
   "metadata": {},
   "outputs": [],
   "source": [
    "from mindspore.nn import SoftmaxCrossEntropyWithLogits                         # 导入SoftmaxCrossEntropyWithLogits模块，用于定义损失函数\n",
    "from mindspore.nn import Adam                                                  # 导入Adam模块用于定义优化参数\n",
    "from mindspore.train import Accuracy, Model, LossMonitor                       # 导入Accuracy模块，用于评估预测准确率\n",
    "import mindspore as ms\n",
    "from mindspore.dataset import NumpySlicesDataset\n",
    "from torch.utils.data import DataLoader# 导入NumpySlicesDataset模块，用于创建模型可以识别的数据集\n",
    "\n",
    "\n",
    "\n",
    "loss = SoftmaxCrossEntropyWithLogits(sparse=True, reduction='mean')            # 通过SoftmaxCrossEntropyWithLogits定义损失函数，sparse=True表示指定标签使用稀疏格式，reduction='mean'表示损失函数的降维方法为求平均值\n",
    "opti = Adam(QuantumNet.trainable_params(), learning_rate=0.01)                  # 通过Adam优化器优化Ansatz中的参数，需要优化的是Quantumnet中可训练的参数，学习率设为0.1\n",
    "\n",
    "model = Model(QuantumNet, loss, opti, metrics={'Acc': Accuracy()})             # 建立模型：将MindSpore Quantum构建的量子机器学习层和MindSpore的算子组合，构成一张更大的机器学习网络\n",
    "\n",
    "\n",
    "train_loader = NumpySlicesDataset({'features': X_train, 'labels': y_train}, shuffle=False).batch(20) # 通过NumpySlicesDataset创建训练样本的数据集，shuffle=False表示不打乱数据，batch(5)表示训练集每批次样本点有5个\n",
    "test_loader = NumpySlicesDataset({'features': X_test, 'labels': y_test},shuffle=False).batch(20)                   # 通过NumpySlicesDataset创建测试样本的数据集，batch(5)表示测试集每批次样本点有5个\n",
    "\n",
    "\n",
    "class StepAcc(ms.Callback):                                                      # 定义一个关于每一步准确率的回调函数\n",
    "    def __init__(self, model, test_loader):\n",
    "        self.model = model\n",
    "        self.test_loader = test_loader\n",
    "        self.acc = []\n",
    "\n",
    "    def on_train_step_end(self, run_context):\n",
    "        \n",
    "        self.acc.append(self.model.eval(self.test_loader, dataset_sink_mode=False)['Acc'])\n",
    "        # print(f'ACC = {self.acc[-1]}')\n",
    "\n",
    "\n",
    "monitor = LossMonitor(20)                                                       # 监控训练中的损失，每16步打印一次损失值\n",
    "\n",
    "acc = StepAcc(model, test_loader)                                               # 使用建立的模型和测试样本计算预测的准确率\n",
    "\n",
    "model.train(20, train_loader, callbacks=[monitor, acc], dataset_sink_mode=False)# 将上述建立好的模型训练20次"
   ]
  },
  {
   "cell_type": "code",
   "execution_count": null,
   "metadata": {},
   "outputs": [],
   "source": []
  },
  {
   "cell_type": "code",
   "execution_count": null,
   "metadata": {},
   "outputs": [],
   "source": []
  },
  {
   "cell_type": "code",
   "execution_count": null,
   "metadata": {},
   "outputs": [],
   "source": []
  },
  {
   "cell_type": "code",
   "execution_count": null,
   "metadata": {},
   "outputs": [],
   "source": [
    "plt.plot(acc.acc)\n",
    "plt.title('Statistics of accuracy', fontsize=20)\n",
    "plt.xlabel('Steps', fontsize=20)\n",
    "plt.ylabel('Accuracy', fontsize=20)"
   ]
  },
  {
   "cell_type": "code",
   "execution_count": null,
   "metadata": {},
   "outputs": [],
   "source": [
    "from Test_tool import  Test_ansatz"
   ]
  },
  {
   "cell_type": "code",
   "execution_count": null,
   "metadata": {},
   "outputs": [],
   "source": [
    "accz = Test_ansatz()\n"
   ]
  },
  {
   "cell_type": "code",
   "execution_count": null,
   "metadata": {},
   "outputs": [],
   "source": [
    "accz[-1]"
   ]
  },
  {
   "cell_type": "code",
   "execution_count": null,
   "metadata": {},
   "outputs": [],
   "source": []
  }
 ],
 "metadata": {
  "kernelspec": {
   "display_name": "MindSpore",
   "language": "python",
   "name": "python3"
  },
  "language_info": {
   "codemirror_mode": {
    "name": "ipython",
    "version": 3
   },
   "file_extension": ".py",
   "mimetype": "text/x-python",
   "name": "python",
   "nbconvert_exporter": "python",
   "pygments_lexer": "ipython3",
   "version": "3.9.19"
  }
 },
 "nbformat": 4,
 "nbformat_minor": 2
}
