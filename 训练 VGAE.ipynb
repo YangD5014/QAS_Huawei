{
 "cells": [
  {
   "cell_type": "code",
   "execution_count": 1,
   "metadata": {},
   "outputs": [
    {
     "name": "stderr",
     "output_type": "stream",
     "text": [
      "/opt/miniconda3/envs/MindSpore/lib/python3.9/site-packages/mindquantum/simulator/__init__.py:17: UserWarning: Unable import mqvector gpu backend due to: cannot import name '_mq_vector_gpu' from partially initialized module 'mindquantum' (most likely due to a circular import) (/opt/miniconda3/envs/MindSpore/lib/python3.9/site-packages/mindquantum/__init__.py)\n",
      "  from .available_simulator import SUPPORTED_SIMULATOR\n"
     ]
    }
   ],
   "source": [
    "from mindquantum.utils import random_circuit\n",
    "from mindquantum.core.circuit import Circuit\n",
    "from huawei_graph_tool import ConvertCircuit,my_random_circuit\n",
    "\n",
    "import random,os,torch\n",
    "import networkx as nx\n",
    "from mindquantum.io.qasm import HiQASM\n",
    "from torch_geometric.loader import DataLoader\n",
    "from torch_geometric.transforms import RandomLinkSplit\n",
    "# from Pytorch_VGAE import CustomGraphDataset,VGAEModel\n",
    "import pandas as pd\n",
    "import torch.nn.functional as F\n",
    "from torch_geometric.utils import from_scipy_sparse_matrix, dense_to_sparse\n",
    "from Pytorch_VGAE import CustomGraphDataset,VGAEModel"
   ]
  },
  {
   "cell_type": "code",
   "execution_count": 3,
   "metadata": {},
   "outputs": [
    {
     "name": "stderr",
     "output_type": "stream",
     "text": [
      "/Users/yangjianfei/mac_vscode/华为 QAS 实习/Pytorch_VGAE.py:54: FutureWarning: You are using `torch.load` with `weights_only=False` (the current default value), which uses the default pickle module implicitly. It is possible to construct malicious pickle data which will execute arbitrary code during unpickling (See https://github.com/pytorch/pytorch/blob/main/SECURITY.md#untrusted-models for more details). In a future release, the default value for `weights_only` will be flipped to `True`. This limits the functions that could be executed during unpickling. Arbitrary objects will no longer be allowed to be loaded via this mode unless they are explicitly allowlisted by the user via `torch.serialization.add_safe_globals`. We recommend you start setting `weights_only=True` for any use case where you don't have full control of the loaded file. Please open an issue on GitHub for any issues related to this experimental feature.\n",
      "  self.data, self.slices = torch.load(self.processed_paths[0])\n"
     ]
    }
   ],
   "source": [
    "root = './VGAE_dataset'\n",
    "dataset = CustomGraphDataset(root=root)"
   ]
  },
  {
   "cell_type": "code",
   "execution_count": 4,
   "metadata": {},
   "outputs": [],
   "source": [
    "# 超参数\n",
    "num_epochs = 200\n",
    "learning_rate = 0.01\n",
    "batch_size = 32\n",
    "out_channels = 16  # 嵌入维度"
   ]
  },
  {
   "cell_type": "code",
   "execution_count": 5,
   "metadata": {},
   "outputs": [],
   "source": [
    "from torch.optim import Adam\n",
    "import time\n",
    "# 创建 DataLoader\n",
    "train_loader = DataLoader(dataset, batch_size=batch_size, shuffle=True)\n",
    "\n",
    "# 实例化模型和优化器\n",
    "model = VGAEModel(in_channels=dataset[0].x.size(1), out_channels=out_channels)\n",
    "optimizer = Adam(model.parameters(), lr=learning_rate)"
   ]
  },
  {
   "cell_type": "code",
   "execution_count": null,
   "metadata": {},
   "outputs": [],
   "source": [
    "# 训练循环\n",
    "for epoch in range(num_epochs):\n",
    "    start_time = time.time()  # 记录开始时间\n",
    "    model.train()\n",
    "    total_loss = 0\n",
    "\n",
    "    for batch_idx, data in enumerate(train_loader):\n",
    "        optimizer.zero_grad()\n",
    "        \n",
    "        # 从图数据中获取节点特征和边索引\n",
    "        x, edge_index = data.x, data.edge_index\n",
    "        \n",
    "        # 前向传播\n",
    "        z = model.encode(x, edge_index)\n",
    "        \n",
    "        # 重建损失\n",
    "        loss = model.recon_loss(z, edge_index)\n",
    "        kl_divergence = model.kl_loss()\n",
    "        total_loss = loss + kl_divergence\n",
    "        \n",
    "        # 反向传播\n",
    "        total_loss.backward()\n",
    "        optimizer.step()\n",
    "\n",
    "        # 打印每个批次的损失\n",
    "        #print(f'  Batch {batch_idx + 1}/{len(train_loader)}, Loss: {total_loss.item():.4f}')\n",
    "\n",
    "        total_loss += total_loss.item()\n",
    "\n",
    "    avg_loss = total_loss / len(train_loader)\n",
    "    elapsed_time = time.time() - start_time  # 计算经过时间\n",
    "    print(f'Epoch {epoch + 1}/{num_epochs}, Average Loss: {avg_loss:.4f}, Time: {elapsed_time:.2f}s')"
   ]
  },
  {
   "cell_type": "code",
   "execution_count": 9,
   "metadata": {},
   "outputs": [
    {
     "name": "stdout",
     "output_type": "stream",
     "text": [
      "(32, 32)\n"
     ]
    }
   ],
   "source": [
    "# 保存训练后的模型\n",
    "import pandas as pd\n",
    "import numpy as np\n",
    "import scipy.sparse as sp\n",
    "torch.save(model.state_dict(), 'vgae_model_0930.pth')\n",
    "\n",
    "# 读取 CSV 文件时不使用表头，确保读取所有数据\n",
    "A = pd.read_csv('./VGAE_dataset/raw/A/A_2.csv', header=None).values\n",
    "X = pd.read_csv('./VGAE_dataset/raw/X/X_2.csv', header=None).values\n",
    "# 检查形状是否正确\n",
    "print(A.shape)\n"
   ]
  },
  {
   "cell_type": "code",
   "execution_count": 10,
   "metadata": {},
   "outputs": [
    {
     "name": "stderr",
     "output_type": "stream",
     "text": [
      "/var/folders/8x/k_m4pmb11437ktb_r6tjzt2c0000gn/T/ipykernel_89407/3224179255.py:3: FutureWarning: You are using `torch.load` with `weights_only=False` (the current default value), which uses the default pickle module implicitly. It is possible to construct malicious pickle data which will execute arbitrary code during unpickling (See https://github.com/pytorch/pytorch/blob/main/SECURITY.md#untrusted-models for more details). In a future release, the default value for `weights_only` will be flipped to `True`. This limits the functions that could be executed during unpickling. Arbitrary objects will no longer be allowed to be loaded via this mode unless they are explicitly allowlisted by the user via `torch.serialization.add_safe_globals`. We recommend you start setting `weights_only=True` for any use case where you don't have full control of the loaded file. Please open an issue on GitHub for any issues related to this experimental feature.\n",
      "  model.load_state_dict(torch.load('vgae_model_0930.pth'))\n"
     ]
    },
    {
     "data": {
      "text/plain": [
       "VGAEModel(\n",
       "  (encoder): GINEncoder(\n",
       "    (conv1): GINConv(nn=Sequential(\n",
       "      (0): Linear(in_features=22, out_features=32, bias=True)\n",
       "      (1): ReLU()\n",
       "      (2): Linear(in_features=32, out_features=16, bias=True)\n",
       "    ))\n",
       "    (conv_mu): GINConv(nn=Sequential(\n",
       "      (0): Linear(in_features=16, out_features=32, bias=True)\n",
       "      (1): ReLU()\n",
       "      (2): Linear(in_features=32, out_features=16, bias=True)\n",
       "    ))\n",
       "    (conv_logstd): GINConv(nn=Sequential(\n",
       "      (0): Linear(in_features=16, out_features=32, bias=True)\n",
       "      (1): ReLU()\n",
       "      (2): Linear(in_features=32, out_features=16, bias=True)\n",
       "    ))\n",
       "  )\n",
       "  (decoder): InnerProductDecoder()\n",
       ")"
      ]
     },
     "execution_count": 10,
     "metadata": {},
     "output_type": "execute_result"
    }
   ],
   "source": [
    "# 加载保存的 VGAE 模型权重\n",
    "model = VGAEModel(in_channels=X.shape[1], out_channels=out_channels)  # 假设 out_channels 是 32\n",
    "model.load_state_dict(torch.load('vgae_model_0930.pth'))\n",
    "model.eval()  # 切换到评估模式"
   ]
  },
  {
   "cell_type": "code",
   "execution_count": 12,
   "metadata": {},
   "outputs": [
    {
     "name": "stdout",
     "output_type": "stream",
     "text": [
      "tensor([[1, 0, 0, 0, 0, 0, 0, 0, 0, 0, 0, 0, 0, 0, 1, 1, 1, 1, 1, 1, 1, 1],\n",
      "        [0, 0, 0, 0, 0, 0, 0, 0, 0, 0, 0, 0, 1, 0, 0, 0, 0, 0, 0, 1, 1, 0],\n",
      "        [0, 0, 0, 0, 0, 0, 0, 0, 1, 0, 0, 0, 0, 0, 1, 0, 0, 0, 1, 0, 0, 0],\n",
      "        [0, 0, 0, 0, 0, 0, 0, 1, 0, 0, 0, 0, 0, 0, 0, 0, 1, 0, 0, 0, 0, 0],\n",
      "        [0, 0, 0, 1, 0, 0, 0, 0, 0, 0, 0, 0, 0, 0, 0, 0, 0, 0, 0, 0, 1, 0],\n",
      "        [0, 0, 0, 0, 0, 0, 0, 0, 1, 0, 0, 0, 0, 0, 0, 0, 0, 1, 1, 0, 0, 0],\n",
      "        [0, 0, 0, 0, 0, 0, 0, 0, 0, 1, 0, 0, 0, 0, 0, 1, 0, 0, 0, 1, 0, 0],\n",
      "        [0, 0, 0, 0, 0, 0, 0, 0, 0, 0, 1, 0, 0, 0, 1, 0, 1, 0, 0, 0, 0, 0],\n",
      "        [0, 0, 0, 0, 0, 0, 0, 0, 0, 1, 0, 0, 0, 0, 0, 0, 0, 0, 1, 0, 0, 1],\n",
      "        [0, 0, 0, 0, 0, 0, 0, 1, 0, 0, 0, 0, 0, 0, 1, 0, 0, 0, 0, 0, 0, 0],\n",
      "        [0, 0, 1, 0, 0, 0, 0, 0, 0, 0, 0, 0, 0, 0, 0, 1, 0, 0, 0, 0, 0, 0],\n",
      "        [0, 0, 0, 0, 1, 0, 0, 0, 0, 0, 0, 0, 0, 0, 0, 0, 0, 0, 0, 0, 1, 0],\n",
      "        [0, 0, 0, 0, 0, 0, 0, 1, 0, 0, 0, 0, 0, 0, 0, 0, 0, 1, 1, 0, 0, 0],\n",
      "        [0, 0, 0, 0, 0, 0, 0, 1, 0, 0, 0, 0, 0, 0, 0, 1, 0, 0, 0, 0, 0, 0],\n",
      "        [0, 0, 0, 0, 0, 0, 0, 1, 0, 0, 0, 0, 0, 0, 0, 0, 0, 0, 0, 0, 1, 0],\n",
      "        [0, 0, 0, 0, 0, 0, 0, 0, 0, 1, 0, 0, 0, 0, 0, 1, 0, 0, 0, 0, 0, 1],\n",
      "        [0, 0, 0, 0, 0, 0, 0, 0, 0, 1, 0, 0, 0, 0, 1, 0, 0, 0, 1, 0, 0, 0],\n",
      "        [0, 0, 0, 0, 0, 0, 0, 0, 0, 0, 0, 1, 0, 0, 0, 0, 1, 1, 0, 0, 0, 0],\n",
      "        [0, 0, 0, 1, 0, 0, 0, 0, 0, 0, 0, 0, 0, 0, 0, 0, 1, 0, 0, 0, 0, 0],\n",
      "        [0, 0, 0, 0, 0, 1, 0, 0, 0, 0, 0, 0, 0, 0, 0, 1, 0, 0, 0, 0, 0, 0],\n",
      "        [0, 0, 0, 0, 0, 0, 0, 0, 0, 0, 0, 1, 0, 0, 1, 0, 0, 1, 0, 0, 0, 0],\n",
      "        [0, 0, 1, 0, 0, 0, 0, 0, 0, 0, 0, 0, 0, 0, 0, 0, 0, 0, 0, 0, 0, 1],\n",
      "        [0, 0, 0, 1, 0, 0, 0, 0, 0, 0, 0, 0, 0, 0, 0, 1, 0, 0, 0, 0, 0, 0],\n",
      "        [0, 0, 0, 1, 0, 0, 0, 0, 0, 0, 0, 0, 0, 0, 1, 0, 0, 0, 0, 0, 0, 0],\n",
      "        [0, 0, 0, 0, 0, 0, 0, 1, 0, 0, 0, 0, 0, 0, 0, 0, 1, 0, 0, 0, 0, 0],\n",
      "        [0, 0, 0, 0, 0, 0, 0, 0, 1, 0, 0, 0, 0, 0, 0, 1, 0, 1, 0, 0, 0, 0],\n",
      "        [0, 0, 0, 0, 0, 0, 1, 0, 0, 0, 0, 0, 0, 0, 0, 1, 1, 0, 0, 0, 0, 0],\n",
      "        [0, 0, 0, 0, 0, 0, 0, 0, 0, 0, 1, 0, 0, 0, 1, 0, 0, 1, 0, 0, 0, 0],\n",
      "        [0, 0, 0, 0, 0, 0, 0, 0, 0, 1, 0, 0, 0, 0, 0, 1, 0, 1, 0, 0, 0, 0],\n",
      "        [0, 0, 0, 0, 0, 0, 0, 0, 0, 1, 0, 0, 0, 0, 0, 0, 0, 1, 1, 0, 0, 0],\n",
      "        [0, 0, 0, 0, 0, 0, 0, 0, 0, 0, 1, 0, 0, 0, 1, 0, 0, 0, 1, 0, 0, 0],\n",
      "        [0, 0, 0, 0, 0, 0, 0, 0, 0, 0, 0, 0, 0, 1, 1, 1, 1, 1, 1, 1, 1, 1]])\n",
      "tensor([[ 0,  0,  0,  1,  1,  2,  3,  3,  4,  5,  5,  6,  6,  7,  8,  9, 10, 10,\n",
      "         11, 12, 13, 15, 15, 16, 16, 17, 17, 18, 19, 20, 20, 22, 23, 24, 25, 25,\n",
      "         26, 26, 28, 29, 30],\n",
      "        [ 1,  2,  3,  5,  6,  5,  4,  7,  9,  8, 16, 10, 16, 11, 15, 12, 13, 17,\n",
      "         14, 17, 15, 20, 29, 19, 20, 18, 21, 23, 24, 22, 25, 26, 25, 27, 26, 28,\n",
      "         28, 30, 29, 30, 31]])\n"
     ]
    }
   ],
   "source": [
    "X = torch.tensor(X)\n",
    "print(X)\n",
    "print(edge_index)"
   ]
  },
  {
   "cell_type": "code",
   "execution_count": 16,
   "metadata": {},
   "outputs": [
    {
     "name": "stdout",
     "output_type": "stream",
     "text": [
      "Encoded latent variable z:\n",
      "torch.Size([32, 16])\n",
      "Reconstructed adjacency matrix A:\n",
      "tensor([1., 1., 1., 1., 1., 1., 1., 1., 1., 1., 1., 1., 1., 1., 1., 1., 1., 1.,\n",
      "        1., 1., 1., 1., 1., 1., 1., 1., 1., 1., 1., 1., 1., 1., 1., 1., 1., 1.,\n",
      "        1., 1., 1., 1., 1.])\n",
      "Reconstructed A as a matrix:\n",
      "[[0.6117643  0.63777816 0.63888246 ... 0.6749312  0.6614476  0.6231562 ]\n",
      " [0.63777816 0.67436415 0.67498016 ... 0.7239567  0.7051634  0.65325826]\n",
      " [0.63888246 0.67498016 0.67583776 ... 0.72398627 0.7051954  0.6540061 ]\n",
      " ...\n",
      " [0.6749312  0.7239567  0.72398627 ... 0.7876996  0.7648372  0.6965454 ]\n",
      " [0.6614476  0.7051634  0.7051954  ... 0.7648372  0.74720067 0.6838767 ]\n",
      " [0.6231562  0.65325826 0.6540061  ... 0.6965454  0.6838767  0.6398762 ]]\n"
     ]
    }
   ],
   "source": [
    "A = sp.coo_matrix(A)  # 如果 A 不是稀疏矩阵，先转换为 COO 格式\n",
    "edge_index, _ = from_scipy_sparse_matrix(A)\n",
    "\n",
    "# 进行编码，得到隐向量 z\n",
    "with torch.no_grad():  # 评估时不需要计算梯度\n",
    "    z = model.encode(X, edge_index)\n",
    "    #z.shape = (32, 16)\n",
    "\n",
    "# 使用解码器重建邻接矩阵\n",
    "reconstructed_A = model.decoder(z, edge_index)\n",
    "threshold = 0.5\n",
    "binary_A = (reconstructed_A > threshold).float()\n",
    "\n",
    "# 打印编码后的隐变量 z 和重建后的邻接矩阵\n",
    "print(\"Encoded latent variable z:\")\n",
    "print(z.shape)\n",
    "\n",
    "print(\"Reconstructed adjacency matrix A:\")\n",
    "print(binary_A)\n",
    "\n",
    "# 可以将 reconstructed_A 处理成具体的矩阵格式展示\n",
    "reconstructed_A_matrix = torch.sigmoid(torch.matmul(z, z.t())).cpu().numpy()\n",
    "print(\"Reconstructed A as a matrix:\")\n",
    "print(reconstructed_A_matrix)"
   ]
  },
  {
   "cell_type": "code",
   "execution_count": null,
   "metadata": {},
   "outputs": [],
   "source": []
  }
 ],
 "metadata": {
  "kernelspec": {
   "display_name": "MindSpore",
   "language": "python",
   "name": "python3"
  },
  "language_info": {
   "codemirror_mode": {
    "name": "ipython",
    "version": 3
   },
   "file_extension": ".py",
   "mimetype": "text/x-python",
   "name": "python",
   "nbconvert_exporter": "python",
   "pygments_lexer": "ipython3",
   "version": "3.9.19"
  }
 },
 "nbformat": 4,
 "nbformat_minor": 2
}
