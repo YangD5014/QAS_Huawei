{
 "cells": [
  {
   "cell_type": "code",
   "execution_count": 1,
   "metadata": {},
   "outputs": [
    {
     "name": "stderr",
     "output_type": "stream",
     "text": [
      "/opt/miniconda3/envs/MindSpore/lib/python3.9/site-packages/mindquantum/simulator/__init__.py:17: UserWarning: Unable import mqvector gpu backend due to: cannot import name '_mq_vector_gpu' from partially initialized module 'mindquantum' (most likely due to a circular import) (/opt/miniconda3/envs/MindSpore/lib/python3.9/site-packages/mindquantum/__init__.py)\n",
      "  from .available_simulator import SUPPORTED_SIMULATOR\n"
     ]
    }
   ],
   "source": [
    "from mindquantum.utils import random_circuit\n",
    "from mindquantum.core.circuit import Circuit\n",
    "from huawei_graph_tool import ConvertCircuit,my_random_circuit\n",
    "\n",
    "import random,os,torch\n",
    "import networkx as nx\n",
    "from mindquantum.io.qasm import HiQASM\n",
    "from torch_geometric.transforms import RandomLinkSplit\n",
    "# from Pytorch_VGAE import CustomGraphDataset,VGAEModel\n",
    "import pandas as pd\n",
    "import torch.nn.functional as F\n",
    "from torch_geometric.utils import from_scipy_sparse_matrix, dense_to_sparse\n",
    "from Pytorch_VGAE import CustomGraphDataset,VGAEModel\n",
    "from torch_geometric.loader import DataLoader\n",
    "import numpy as np"
   ]
  },
  {
   "cell_type": "code",
   "execution_count": 2,
   "metadata": {},
   "outputs": [],
   "source": [
    "A_list = []\n",
    "X_list = []\n",
    "for i in range(5000):\n",
    "    A_list.append(pd.read_csv(f'./VGAE_dataset/raw/A/A_{i}.csv', header=None).values)\n",
    "    X_list.append(pd.read_csv(f'./VGAE_dataset/raw/X/X_{i}.csv', header=None).values)\n"
   ]
  },
  {
   "cell_type": "code",
   "execution_count": 3,
   "metadata": {},
   "outputs": [],
   "source": [
    "from torch_geometric.utils import train_test_split_edges\n",
    "from torch_geometric.data import Data\n",
    "import scipy.sparse as sp\n",
    "\n",
    "# 将邻接矩阵转换为 PyTorch Geometric 支持的 edge_index 格式\n",
    "def adj_to_edge_index(adj):\n",
    "    if isinstance(adj, np.ndarray):\n",
    "        adj = sp.csr_matrix(adj)\n",
    "    adj_coo = adj.tocoo()\n",
    "    row = torch.tensor(adj_coo.row, dtype=torch.long)\n",
    "    col = torch.tensor(adj_coo.col, dtype=torch.long)\n",
    "    edge_index = torch.stack([row, col], dim=0)\n",
    "    return edge_index\n",
    "\n",
    "# 准备 PyG 数据集并分割训练/测试边\n",
    "def prepare_data(X, A):\n",
    "    data_list = []\n",
    "    for i in range(len(X)):\n",
    "        x = torch.tensor(X[i], dtype=torch.float)\n",
    "        edge_index = adj_to_edge_index(A[i])\n",
    "        data = Data(x=x, edge_index=edge_index)\n",
    "        #data = train_test_split_edges(data)\n",
    "        data_list.append(data)\n",
    "    return data_list"
   ]
  },
  {
   "cell_type": "code",
   "execution_count": 26,
   "metadata": {},
   "outputs": [],
   "source": [
    "data_list = prepare_data(X_list, A_list)"
   ]
  },
  {
   "cell_type": "code",
   "execution_count": null,
   "metadata": {},
   "outputs": [],
   "source": [
    "batch_size = 32  # 你想要的批量大小\n",
    "loader = DataLoader(data_list, batch_size=batch_size, shuffle=True)\n",
    "for batch in loader:\n",
    "    \n",
    "    print(batch)"
   ]
  },
  {
   "cell_type": "code",
   "execution_count": null,
   "metadata": {},
   "outputs": [],
   "source": []
  }
 ],
 "metadata": {
  "kernelspec": {
   "display_name": "MindSpore",
   "language": "python",
   "name": "python3"
  },
  "language_info": {
   "codemirror_mode": {
    "name": "ipython",
    "version": 3
   },
   "file_extension": ".py",
   "mimetype": "text/x-python",
   "name": "python",
   "nbconvert_exporter": "python",
   "pygments_lexer": "ipython3",
   "version": "3.9.19"
  }
 },
 "nbformat": 4,
 "nbformat_minor": 2
}
