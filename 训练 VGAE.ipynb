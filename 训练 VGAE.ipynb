{
 "cells": [
  {
   "cell_type": "code",
   "execution_count": 3,
   "metadata": {},
   "outputs": [],
   "source": [
    "from mindquantum.utils import random_circuit\n",
    "from mindquantum.core.circuit import Circuit\n",
    "from huawei_graph_tool import ConvertCircuit,my_random_circuit\n",
    "\n",
    "import random,os,torch\n",
    "import networkx as nx\n",
    "from mindquantum.io.qasm import HiQASM\n",
    "from torch_geometric.loader import DataLoader\n",
    "from torch_geometric.transforms import RandomLinkSplit\n",
    "# from Pytorch_VGAE import CustomGraphDataset,VGAEModel\n",
    "import pandas as pd\n",
    "import torch.nn.functional as F\n",
    "from torch_geometric.utils import from_scipy_sparse_matrix, dense_to_sparse"
   ]
  },
  {
   "cell_type": "code",
   "execution_count": 2,
   "metadata": {},
   "outputs": [
    {
     "ename": "NameError",
     "evalue": "name 'CustomGraphDataset' is not defined",
     "output_type": "error",
     "traceback": [
      "\u001b[0;31m---------------------------------------------------------------------------\u001b[0m",
      "\u001b[0;31mNameError\u001b[0m                                 Traceback (most recent call last)",
      "Cell \u001b[0;32mIn[2], line 31\u001b[0m\n\u001b[1;32m     29\u001b[0m \u001b[38;5;66;03m# 数据集实例化\u001b[39;00m\n\u001b[1;32m     30\u001b[0m root \u001b[38;5;241m=\u001b[39m \u001b[38;5;124m'\u001b[39m\u001b[38;5;124m./VGAE_dataset\u001b[39m\u001b[38;5;124m'\u001b[39m\n\u001b[0;32m---> 31\u001b[0m dataset \u001b[38;5;241m=\u001b[39m \u001b[43mCustomGraphDataset\u001b[49m(root\u001b[38;5;241m=\u001b[39mroot)\n\u001b[1;32m     32\u001b[0m \u001b[38;5;66;03m# 加载模型\u001b[39;00m\n\u001b[1;32m     33\u001b[0m model \u001b[38;5;241m=\u001b[39m VGAEModel(in_channels\u001b[38;5;241m=\u001b[39mdataset[\u001b[38;5;241m0\u001b[39m]\u001b[38;5;241m.\u001b[39mx\u001b[38;5;241m.\u001b[39msize(\u001b[38;5;241m1\u001b[39m), out_channels\u001b[38;5;241m=\u001b[39m\u001b[38;5;241m16\u001b[39m)\n",
      "\u001b[0;31mNameError\u001b[0m: name 'CustomGraphDataset' is not defined"
     ]
    }
   ],
   "source": [
    "def test_vgae_model(model, A, X):\n",
    "    # 确保模型处于评估模式\n",
    "    model.eval()\n",
    "    \n",
    "    # 将输入数据转换为张量\n",
    "    A = sp.coo_matrix(A)  # 确保 A 是 COO 格式\n",
    "    edge_index, _ = from_scipy_sparse_matrix(A)  # 转换为边索引\n",
    "    X = torch.tensor(X, dtype=torch.float)  # 特征矩阵转换为张量\n",
    "\n",
    "    # 前向传播：编码\n",
    "    with torch.no_grad():\n",
    "        z = model.encode(X, edge_index)  # 编码得到潜在表示 Z\n",
    "        \n",
    "    # 假设我们使用模型的解码器来重建边\n",
    "    # 这里需要实现重建的逻辑，假设你有一个解码函数\n",
    "    # 此处的 decoder 需要根据你的模型定义进行实现\n",
    "    # 示例代码:\n",
    "    reconstructed_edge_index = model.decoder(z)  # 需要实现解码逻辑\n",
    "\n",
    "    # 计算重建误差\n",
    "    # 将重建的边索引转换为稀疏矩阵\n",
    "    reconstructed_adj = dense_to_sparse(reconstructed_edge_index)\n",
    "\n",
    "    # 计算重建误差（如 MSE 或其他）\n",
    "    loss = F.mse_loss(reconstructed_adj, A)  # 使用合适的损失函数\n",
    "\n",
    "    print(f'Reconstruction loss: {loss.item():.4f}')\n",
    "\n",
    "# 数据集实例化\n",
    "root = './VGAE_dataset'\n",
    "dataset = CustomGraphDataset(root=root)\n",
    "# 加载模型\n",
    "model = VGAEModel(in_channels=dataset[0].x.size(1), out_channels=16)\n",
    "model.load_state_dict(torch.load('vgae_model.pth'))\n",
    "model.to(torch.device(\"cuda\" if torch.cuda.is_available() else \"cpu\"))  # 如果有 GPU 可用，使用它\n",
    "\n",
    "# 示例用法\n",
    "# 假设你有一个邻接矩阵 A 和特征矩阵 X\n",
    "A_test = pd.read_csv('path_to_A.csv', header=None).values  # 读取测试数据\n",
    "X_test = pd.read_csv('path_to_X.csv', header=None).values  # 读取测试数据\n",
    "\n",
    "# 测试模型\n",
    "test_vgae_model(model, A_test, X_test)\n"
   ]
  }
 ],
 "metadata": {
  "kernelspec": {
   "display_name": "MindSpore",
   "language": "python",
   "name": "python3"
  },
  "language_info": {
   "codemirror_mode": {
    "name": "ipython",
    "version": 3
   },
   "file_extension": ".py",
   "mimetype": "text/x-python",
   "name": "python",
   "nbconvert_exporter": "python",
   "pygments_lexer": "ipython3",
   "version": "3.9.19"
  }
 },
 "nbformat": 4,
 "nbformat_minor": 2
}
