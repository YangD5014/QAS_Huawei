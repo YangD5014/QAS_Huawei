{
 "cells": [
  {
   "cell_type": "code",
   "execution_count": 39,
   "metadata": {},
   "outputs": [],
   "source": [
    "import torch\n",
    "import torch.nn.functional as F\n",
    "from torch.optim import Adam\n",
    "from sklearn.metrics import roc_auc_score, average_precision_score\n",
    "import scipy.sparse as sp\n",
    "import numpy as np\n",
    "import os\n",
    "import time\n",
    "from preprocessing import *\n",
    "import args\n",
    "from GVAE_GIN import DeepVGAE\n",
    "import pandas as pd\n",
    "from torch_geometric.utils import train_test_split_edges\n",
    "from torch_geometric.data import Data\n",
    "from sklearn.metrics import roc_auc_score, average_precision_score\n",
    "from Pytorch_VGAE import CustomGraphDataset\n"
   ]
  },
  {
   "cell_type": "code",
   "execution_count": 52,
   "metadata": {},
   "outputs": [],
   "source": [
    "A_list=[]\n",
    "X_list=[]\n",
    "for i in range(5000):\n",
    "    A_list.append(pd.read_csv('../VGAE_dataset/raw/A/A_{i}.csv'.format(i=i),header=None).values)\n",
    "    X_list.append(pd.read_csv('../VGAE_dataset/raw/X/X_{i}.csv'.format(i=i),header=None).values)"
   ]
  },
  {
   "cell_type": "code",
   "execution_count": 32,
   "metadata": {},
   "outputs": [],
   "source": [
    "# 模型参数设定\n",
    "class Args:\n",
    "    input_dim = 1433 \n",
    "    hidden1_dim = 32\n",
    "    hidden2_dim = 16\n",
    "    use_feature = True\n",
    "\n",
    "    num_epoch = 200\n",
    "    learning_rate = 0.01"
   ]
  },
  {
   "cell_type": "code",
   "execution_count": 35,
   "metadata": {},
   "outputs": [],
   "source": [
    "args = Args()\n",
    "\n",
    "# VGAE 模型实例化\n",
    "model = DeepVGAE(args).to('cuda' if torch.cuda.is_available() else 'cpu')\n",
    "optimizer = torch.optim.Adam(model.parameters(), lr=args.learning_rate)"
   ]
  },
  {
   "cell_type": "code",
   "execution_count": 36,
   "metadata": {},
   "outputs": [],
   "source": [
    "def train(model, data, optimizer):\n",
    "    model.train()\n",
    "    optimizer.zero_grad()\n",
    "    loss = model.loss(data.x, data.train_pos_edge_index, data.edge_index)\n",
    "    loss.backward()\n",
    "    optimizer.step()\n",
    "    return loss.item()\n",
    "\n",
    "# 模型测试函数\n",
    "def test(model, data):\n",
    "    model.eval()\n",
    "    with torch.no_grad():\n",
    "        z = model.encode(data.x, data.train_pos_edge_index)\n",
    "        roc_auc, ap = model.test(z, data.test_pos_edge_index, data.test_neg_edge_index)\n",
    "    return roc_auc, ap"
   ]
  },
  {
   "cell_type": "code",
   "execution_count": 37,
   "metadata": {},
   "outputs": [],
   "source": [
    "def prepare_data(X, A):\n",
    "    # 转换为 PyG 数据格式\n",
    "    data_list = []\n",
    "    for i in range(len(X)):\n",
    "        x = torch.tensor(X[i], dtype=torch.float)\n",
    "        edge_index = torch.tensor(A[i], dtype=torch.long)\n",
    "        data = Data(x=x, edge_index=edge_index)\n",
    "        \n",
    "        # 分割边用于训练、验证和测试\n",
    "        data = train_test_split_edges(data)\n",
    "        data_list.append(data)\n",
    "\n",
    "    return data_list"
   ]
  },
  {
   "cell_type": "code",
   "execution_count": 53,
   "metadata": {},
   "outputs": [
    {
     "name": "stderr",
     "output_type": "stream",
     "text": [
      "/opt/miniconda3/envs/MindSpore/lib/python3.9/site-packages/torch_geometric/deprecation.py:26: UserWarning: 'train_test_split_edges' is deprecated, use 'transforms.RandomLinkSplit' instead\n",
      "  warnings.warn(out)\n"
     ]
    },
    {
     "ename": "ValueError",
     "evalue": "too many values to unpack (expected 2)",
     "output_type": "error",
     "traceback": [
      "\u001b[0;31m---------------------------------------------------------------------------\u001b[0m",
      "\u001b[0;31mValueError\u001b[0m                                Traceback (most recent call last)",
      "Cell \u001b[0;32mIn[53], line 1\u001b[0m\n\u001b[0;32m----> 1\u001b[0m data \u001b[38;5;241m=\u001b[39m \u001b[43mprepare_data\u001b[49m\u001b[43m(\u001b[49m\u001b[43mA\u001b[49m\u001b[38;5;241;43m=\u001b[39;49m\u001b[43mA_list\u001b[49m\u001b[43m,\u001b[49m\u001b[43m \u001b[49m\u001b[43mX\u001b[49m\u001b[38;5;241;43m=\u001b[39;49m\u001b[43mX_list\u001b[49m\u001b[43m)\u001b[49m\n",
      "Cell \u001b[0;32mIn[37], line 11\u001b[0m, in \u001b[0;36mprepare_data\u001b[0;34m(X, A)\u001b[0m\n\u001b[1;32m      8\u001b[0m     data \u001b[38;5;241m=\u001b[39m Data(x\u001b[38;5;241m=\u001b[39mx, edge_index\u001b[38;5;241m=\u001b[39medge_index)\n\u001b[1;32m     10\u001b[0m     \u001b[38;5;66;03m# 分割边用于训练、验证和测试\u001b[39;00m\n\u001b[0;32m---> 11\u001b[0m     data \u001b[38;5;241m=\u001b[39m \u001b[43mtrain_test_split_edges\u001b[49m\u001b[43m(\u001b[49m\u001b[43mdata\u001b[49m\u001b[43m)\u001b[49m\n\u001b[1;32m     12\u001b[0m     data_list\u001b[38;5;241m.\u001b[39mappend(data)\n\u001b[1;32m     14\u001b[0m \u001b[38;5;28;01mreturn\u001b[39;00m data_list\n",
      "File \u001b[0;32m/opt/miniconda3/envs/MindSpore/lib/python3.9/site-packages/torch_geometric/deprecation.py:27\u001b[0m, in \u001b[0;36mdeprecated.<locals>.decorator.<locals>.wrapper\u001b[0;34m(*args, **kwargs)\u001b[0m\n\u001b[1;32m     25\u001b[0m     out \u001b[38;5;241m+\u001b[39m\u001b[38;5;241m=\u001b[39m \u001b[38;5;124mf\u001b[39m\u001b[38;5;124m\"\u001b[39m\u001b[38;5;124m, \u001b[39m\u001b[38;5;132;01m{\u001b[39;00mdetails\u001b[38;5;132;01m}\u001b[39;00m\u001b[38;5;124m\"\u001b[39m\n\u001b[1;32m     26\u001b[0m warnings\u001b[38;5;241m.\u001b[39mwarn(out)\n\u001b[0;32m---> 27\u001b[0m \u001b[38;5;28;01mreturn\u001b[39;00m \u001b[43mfunc\u001b[49m\u001b[43m(\u001b[49m\u001b[38;5;241;43m*\u001b[39;49m\u001b[43margs\u001b[49m\u001b[43m,\u001b[49m\u001b[43m \u001b[49m\u001b[38;5;241;43m*\u001b[39;49m\u001b[38;5;241;43m*\u001b[39;49m\u001b[43mkwargs\u001b[49m\u001b[43m)\u001b[49m\n",
      "File \u001b[0;32m/opt/miniconda3/envs/MindSpore/lib/python3.9/site-packages/torch_geometric/utils/_train_test_split_edges.py:47\u001b[0m, in \u001b[0;36mtrain_test_split_edges\u001b[0;34m(data, val_ratio, test_ratio)\u001b[0m\n\u001b[1;32m     44\u001b[0m \u001b[38;5;28;01massert\u001b[39;00m data\u001b[38;5;241m.\u001b[39medge_index \u001b[38;5;129;01mis\u001b[39;00m \u001b[38;5;129;01mnot\u001b[39;00m \u001b[38;5;28;01mNone\u001b[39;00m\n\u001b[1;32m     46\u001b[0m num_nodes \u001b[38;5;241m=\u001b[39m data\u001b[38;5;241m.\u001b[39mnum_nodes\n\u001b[0;32m---> 47\u001b[0m row, col \u001b[38;5;241m=\u001b[39m data\u001b[38;5;241m.\u001b[39medge_index\n\u001b[1;32m     48\u001b[0m edge_attr \u001b[38;5;241m=\u001b[39m data\u001b[38;5;241m.\u001b[39medge_attr\n\u001b[1;32m     49\u001b[0m \u001b[38;5;28;01mdel\u001b[39;00m data\u001b[38;5;241m.\u001b[39medge_index\n",
      "\u001b[0;31mValueError\u001b[0m: too many values to unpack (expected 2)"
     ]
    }
   ],
   "source": [
    "data = prepare_data(A=A_list, X=X_list)"
   ]
  },
  {
   "cell_type": "code",
   "execution_count": 38,
   "metadata": {},
   "outputs": [],
   "source": [
    "# 训练主函数\n",
    "def run_training(X, A, epochs=200):\n",
    "    # 数据集加载与预处理\n",
    "    data_list = prepare_data(X, A)\n",
    "\n",
    "    # 选择设备（GPU或CPU）\n",
    "    device = torch.device('cuda' if torch.cuda.is_available() else 'cpu')\n",
    "    model.to(device)\n",
    "\n",
    "    for epoch in range(epochs):\n",
    "        total_loss = 0\n",
    "        for data in data_list:\n",
    "            data = data.to(device)\n",
    "            loss = train(model, data, optimizer)\n",
    "            total_loss += loss\n",
    "\n",
    "        # 打印每个 epoch 的平均损失\n",
    "        print(f'Epoch {epoch+1}/{epochs}, Loss: {total_loss / len(data_list):.4f}')\n",
    "\n",
    "        # 每隔一段时间进行测试评估\n",
    "        if (epoch + 1) % 20 == 0:\n",
    "            roc_auc_scores = []\n",
    "            ap_scores = []\n",
    "            for data in data_list:\n",
    "                data = data.to(device)\n",
    "                roc_auc, ap = test(model, data)\n",
    "                roc_auc_scores.append(roc_auc)\n",
    "                ap_scores.append(ap)\n",
    "            print(f'Epoch {epoch+1}, ROC AUC: {sum(roc_auc_scores)/len(roc_auc_scores):.4f}, AP: {sum(ap_scores)/len(ap_scores):.4f}')"
   ]
  },
  {
   "cell_type": "code",
   "execution_count": null,
   "metadata": {},
   "outputs": [],
   "source": []
  }
 ],
 "metadata": {
  "kernelspec": {
   "display_name": "MindSpore",
   "language": "python",
   "name": "python3"
  },
  "language_info": {
   "codemirror_mode": {
    "name": "ipython",
    "version": 3
   },
   "file_extension": ".py",
   "mimetype": "text/x-python",
   "name": "python",
   "nbconvert_exporter": "python",
   "pygments_lexer": "ipython3",
   "version": "3.9.19"
  }
 },
 "nbformat": 4,
 "nbformat_minor": 2
}
