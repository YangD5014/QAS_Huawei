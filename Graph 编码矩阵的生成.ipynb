{
 "cells": [
  {
   "cell_type": "code",
   "execution_count": 2,
   "metadata": {},
   "outputs": [],
   "source": [
    "from mindquantum.algorithm.compiler import DAGCircuit\n",
    "from mindquantum.core.circuit import Circuit\n",
    "from mindquantum.core.parameterresolver import PRGenerator\n",
    "from mindquantum.core.gates import RotPauliString\n",
    "from mindquantum.core.circuit import apply\n",
    "from mindquantum.algorithm.compiler import  DAGCircuit,DAGQubitNode,DAGNode\n",
    "from huawei_graph_tool import ConvertCircuit\n",
    "import networkx as nx\n",
    "import matplotlib.pyplot as plt\n",
    "from copy import deepcopy\n"
   ]
  },
  {
   "cell_type": "code",
   "execution_count": 3,
   "metadata": {},
   "outputs": [
    {
     "data": {
      "text/html": [
       "<pre style=\"white-space:pre;overflow-x:auto;line-height:normal;font-family:Menlo,'DejaVu Sans Mono',consolas,'Courier New',monospace\"></pre>\n"
      ],
      "text/plain": []
     },
     "metadata": {},
     "output_type": "display_data"
    },
    {
     "data": {
      "text/html": [
       "<pre style=\"white-space: pre;\">                             ┏━━━━━━━┓    \n",
       "q0: <span style=\"color: #d2d4d9; text-decoration-color: #d2d4d9\">──</span><span style=\"color: #0e36d6; text-decoration-color: #0e36d6\">╳</span><span style=\"color: #d2d4d9; text-decoration-color: #d2d4d9\">──────────────────────</span>┨       ┠<span style=\"color: #d2d4d9; text-decoration-color: #d2d4d9\">────</span>\n",
       "      ┃                      ┃       ┃    \n",
       "      ┃ <span style=\"color: #feb439; text-decoration-color: #feb439\">┏━━━━━━━━┓</span> ┏━━━━━━━┓ ┃ <span style=\"color: #800080; text-decoration-color: #800080; font-weight: bold\">ZZ</span><span style=\"font-weight: bold\">(</span><span style=\"color: #008080; text-decoration-color: #008080; font-weight: bold\">1</span><span style=\"font-weight: bold\">)</span> ┃    \n",
       "q1: <span style=\"color: #d2d4d9; text-decoration-color: #d2d4d9\">──</span><span style=\"color: #0e36d6; text-decoration-color: #0e36d6\">╳</span><span style=\"color: #d2d4d9; text-decoration-color: #d2d4d9\">─</span><span style=\"color: #feb439; text-decoration-color: #feb439\">┨</span> <span style=\"color: #800080; text-decoration-color: #800080; font-weight: bold\">RX</span><span style=\"font-weight: bold\">(p0)</span> <span style=\"color: #feb439; text-decoration-color: #feb439\">┠</span><span style=\"color: #d2d4d9; text-decoration-color: #d2d4d9\">─</span>┨       ┠<span style=\"color: #d2d4d9; text-decoration-color: #d2d4d9\">─</span>┨       ┠<span style=\"color: #d2d4d9; text-decoration-color: #d2d4d9\">────</span>\n",
       "        <span style=\"color: #feb439; text-decoration-color: #feb439\">┗━━━━━━━━┛</span> ┃       ┃ ┗━━━━━━━┛    \n",
       "      <span style=\"color: #feb439; text-decoration-color: #feb439\">┏━━━━━━━━┓</span>   ┃ <span style=\"color: #800080; text-decoration-color: #800080; font-weight: bold\">ZZ</span><span style=\"font-weight: bold\">(</span><span style=\"color: #008080; text-decoration-color: #008080; font-weight: bold\">1</span><span style=\"font-weight: bold\">)</span> ┃ <span style=\"color: #feb439; text-decoration-color: #feb439\">┏━━━━━━━━┓</span>   \n",
       "q2: <span style=\"color: #d2d4d9; text-decoration-color: #d2d4d9\">──</span><span style=\"color: #feb439; text-decoration-color: #feb439\">┨</span> <span style=\"color: #800080; text-decoration-color: #800080; font-weight: bold\">RX</span><span style=\"font-weight: bold\">(p1)</span> <span style=\"color: #feb439; text-decoration-color: #feb439\">┠</span><span style=\"color: #d2d4d9; text-decoration-color: #d2d4d9\">───</span>┨       ┠<span style=\"color: #d2d4d9; text-decoration-color: #d2d4d9\">─</span><span style=\"color: #feb439; text-decoration-color: #feb439\">┨</span> <span style=\"color: #800080; text-decoration-color: #800080; font-weight: bold\">RX</span><span style=\"font-weight: bold\">(p2)</span> <span style=\"color: #feb439; text-decoration-color: #feb439\">┠</span><span style=\"color: #d2d4d9; text-decoration-color: #d2d4d9\">───</span>\n",
       "      <span style=\"color: #feb439; text-decoration-color: #feb439\">┗━━━━━━━━┛</span>   ┗━━━━━━━┛ <span style=\"color: #feb439; text-decoration-color: #feb439\">┗━━━━━━━━┛</span>   \n",
       "</pre>\n"
      ],
      "text/plain": [
       "                             ┏━━━━━━━┓    \n",
       "q0: ──╳──────────────────────┨       ┠────\n",
       "      ┃                      ┃       ┃    \n",
       "      ┃ ┏━━━━━━━━┓ ┏━━━━━━━┓ ┃ ZZ(1) ┃    \n",
       "q1: ──╳─┨ RX(p0) ┠─┨       ┠─┨       ┠────\n",
       "        ┗━━━━━━━━┛ ┃       ┃ ┗━━━━━━━┛    \n",
       "      ┏━━━━━━━━┓   ┃ ZZ(1) ┃ ┏━━━━━━━━┓   \n",
       "q2: ──┨ RX(p1) ┠───┨       ┠─┨ RX(p2) ┠───\n",
       "      ┗━━━━━━━━┛   ┗━━━━━━━┛ ┗━━━━━━━━┛   "
      ]
     },
     "execution_count": 3,
     "metadata": {},
     "output_type": "execute_result"
    }
   ],
   "source": [
    "circuit = Circuit()\n",
    "circuit.swap(obj_qubits=[0,1])\n",
    "pr_gen = PRGenerator()\n",
    "circuit.rx(para=pr_gen.new(),obj_qubits=1)\n",
    "circuit.rx(para=pr_gen.new(),obj_qubits=2)\n",
    "g = RotPauliString('ZZ', 1.0).on([0, 1])\n",
    "g.name = 'ZZ'\n",
    "cir = Circuit() + g\n",
    "circuit += apply(circuit_fn=cir, qubits=[1,2])\n",
    "circuit += apply(circuit_fn=cir, qubits=[0,1])\n",
    "circuit.rx(para=pr_gen.new(),obj_qubits=2)\n",
    "circuit"
   ]
  },
  {
   "cell_type": "code",
   "execution_count": 8,
   "metadata": {},
   "outputs": [],
   "source": [
    "X,A,G,Position,Gates_name = ConvertCircuit(circuit)"
   ]
  },
  {
   "cell_type": "code",
   "execution_count": 5,
   "metadata": {},
   "outputs": [
    {
     "data": {
      "text/plain": [
       "[RX(p1|2), SWAP(0 1), RX(p0|1), ZZ(1|1 2), RX(p2|2), ZZ(1|0 1)]"
      ]
     },
     "execution_count": 5,
     "metadata": {},
     "output_type": "execute_result"
    }
   ],
   "source": [
    "Gates_name"
   ]
  },
  {
   "cell_type": "code",
   "execution_count": 9,
   "metadata": {},
   "outputs": [
    {
     "data": {
      "text/plain": [
       "{'START': (-1, 0),\n",
       " 'END': (5, 0),\n",
       " RX(p1|2): (0, 2),\n",
       " SWAP(0 1): (0, 0),\n",
       " RX(p0|1): (1, 1),\n",
       " ZZ(1|1 2): (2, 1),\n",
       " RX(p2|2): (3, 2),\n",
       " ZZ(1|0 1): (3, 0)}"
      ]
     },
     "execution_count": 9,
     "metadata": {},
     "output_type": "execute_result"
    }
   ],
   "source": [
    "Position"
   ]
  },
  {
   "cell_type": "code",
   "execution_count": 10,
   "metadata": {},
   "outputs": [
    {
     "data": {
      "text/plain": [
       "<networkx.classes.digraph.DiGraph at 0x120456190>"
      ]
     },
     "execution_count": 10,
     "metadata": {},
     "output_type": "execute_result"
    }
   ],
   "source": [
    "G"
   ]
  },
  {
   "cell_type": "code",
   "execution_count": 11,
   "metadata": {},
   "outputs": [
    {
     "data": {
      "image/png": "[encoded data removed]",
      "text/plain": [
       "<Figure size 640x480 with 1 Axes>"
      ]
     },
     "metadata": {},
     "output_type": "display_data"
    }
   ],
   "source": [
    "nx.draw(G,Position, with_labels=True, node_size=3000, node_color='lightblue', font_size=10, font_color='black', arrows=True)# 绘制有向无环图\n"
   ]
  },
  {
   "cell_type": "code",
   "execution_count": 12,
   "metadata": {},
   "outputs": [
    {
     "data": {
      "text/plain": [
       "array([[1, 0, 0, 0, 0, 1, 1, 1],\n",
       "       [0, 1, 0, 0, 0, 0, 0, 1],\n",
       "       [0, 0, 1, 0, 0, 1, 1, 0],\n",
       "       [0, 1, 0, 0, 0, 0, 1, 0],\n",
       "       [0, 0, 0, 1, 0, 0, 1, 1],\n",
       "       [0, 1, 0, 0, 0, 0, 0, 1],\n",
       "       [0, 0, 0, 1, 0, 1, 1, 0],\n",
       "       [0, 0, 0, 0, 1, 1, 1, 1]])"
      ]
     },
     "execution_count": 12,
     "metadata": {},
     "output_type": "execute_result"
    }
   ],
   "source": [
    "X"
   ]
  },
  {
   "cell_type": "code",
   "execution_count": 13,
   "metadata": {},
   "outputs": [
    {
     "data": {
      "text/plain": [
       "array([[0, 1, 1, 0, 0, 0, 0, 0],\n",
       "       [0, 0, 0, 1, 0, 1, 0, 0],\n",
       "       [0, 0, 0, 0, 1, 0, 0, 0],\n",
       "       [0, 0, 0, 0, 1, 0, 0, 0],\n",
       "       [0, 0, 0, 0, 0, 1, 1, 0],\n",
       "       [0, 0, 0, 0, 0, 0, 0, 1],\n",
       "       [0, 0, 0, 0, 0, 0, 0, 1],\n",
       "       [0, 0, 0, 0, 0, 0, 0, 0]])"
      ]
     },
     "execution_count": 13,
     "metadata": {},
     "output_type": "execute_result"
    }
   ],
   "source": [
    "A"
   ]
  },
  {
   "cell_type": "code",
   "execution_count": null,
   "metadata": {},
   "outputs": [],
   "source": [
    "node =[]\n",
    "\n",
    "for each_layer in DAGCircuit(circuit).layering():\n",
    "    each_nodes = DAGCircuit(each_layer).find_all_gate_node()\n",
    "    each_nodes = sorted(each_nodes, key=lambda x: x.gate.name.lower())\n",
    "    node.append(each_nodes)\n",
    "node"
   ]
  },
  {
   "cell_type": "code",
   "execution_count": null,
   "metadata": {},
   "outputs": [],
   "source": [
    "DAGCircuit(circuit).layering()[1]"
   ]
  },
  {
   "cell_type": "code",
   "execution_count": null,
   "metadata": {},
   "outputs": [],
   "source": [
    "count =0 \n",
    "for i in node:\n",
    "    count+=len(i)\n",
    "\n",
    "count"
   ]
  },
  {
   "cell_type": "code",
   "execution_count": null,
   "metadata": {},
   "outputs": [],
   "source": [
    "Gates = []\n",
    "Gates_list = []\n",
    "for each_layer in DAGCircuit(circuit=circuit).layering():\n",
    "    nodes = sorted(DAGCircuit(each_layer).find_all_gate_node(), key=lambda x: x.gate.name.lower())\n",
    "    Gates.append(nodes)\n",
    "    Gates_list.extend(nodes)\n",
    "\n",
    "for i in Gates:\n",
    "    print(i)\n",
    "    \n",
    "    "
   ]
  },
  {
   "cell_type": "code",
   "execution_count": null,
   "metadata": {},
   "outputs": [],
   "source": [
    "Gates"
   ]
  },
  {
   "cell_type": "code",
   "execution_count": null,
   "metadata": {},
   "outputs": [],
   "source": [
    "Gates_list"
   ]
  },
  {
   "cell_type": "code",
   "execution_count": null,
   "metadata": {},
   "outputs": [],
   "source": [
    "[1 if i in Gates[1] else 0 for index, i in enumerate(Gates_list)]"
   ]
  },
  {
   "cell_type": "code",
   "execution_count": null,
   "metadata": {},
   "outputs": [],
   "source": [
    "Gates[1]"
   ]
  },
  {
   "cell_type": "code",
   "execution_count": null,
   "metadata": {},
   "outputs": [],
   "source": [
    "G = nx.DiGraph()\n",
    "position = {}\n",
    "for index,each_layer_node_a in enumerate(Gates):\n",
    "    G.add_nodes_from(each_layer_node_a)\n",
    "    print(f'第{index}层的{each_layer_node_a}被添加！')\n",
    "    for each_node in each_layer_node_a:\n",
    "        position[each_node] = (index, each_node.gate.obj_qubits[0])\n",
    "        #print(each_node)\n",
    "        obj_qubits = deepcopy(each_node.gate.obj_qubits)\n",
    "        print(f'第{index}层,Gate={each_node},qubits={obj_qubits}')\n",
    "        for layer in Gates[index+1:]:\n",
    "            print(f'后续 layer={layer}')\n",
    "            for each_layer_node_b in layer:\n",
    "                #判断是否有交集\n",
    "                if set(obj_qubits) & set(each_layer_node_b.gate.obj_qubits):\n",
    "                    print('没有交集！')\n",
    "                    G.add_edge(each_node, each_layer_node_b)\n",
    "                    intersection = list(set(obj_qubits) & set(each_layer_node_b.gate.obj_qubits))\n",
    "                    print(f'intersection={intersection}')\n",
    "                    [obj_qubits.remove(i) for i in intersection]\n",
    "                    if len(obj_qubits) == 0:\n",
    "                        break\n",
    "                    else:\n",
    "                        continue\n",
    "                else:\n",
    "                    print(f'{each_node}与{each_layer_node_b}没有交集')\n",
    "                        \n",
    "# 绘制有向无环图\n",
    "nx.draw(G, position, with_labels=True, node_size=700, node_color='lightblue', font_size=10, font_color='black', arrows=True)\n",
    "plt.show()\n",
    "adj_matrix = nx.adjacency_matrix(G).todense()\n",
    "print(\"邻接矩阵:\")\n",
    "print(adj_matrix)"
   ]
  },
  {
   "cell_type": "code",
   "execution_count": null,
   "metadata": {},
   "outputs": [],
   "source": [
    "Gates"
   ]
  },
  {
   "cell_type": "code",
   "execution_count": null,
   "metadata": {},
   "outputs": [],
   "source": [
    "a = [0,1,2,3,4,5]\n",
    "a[3:]"
   ]
  },
  {
   "cell_type": "code",
   "execution_count": null,
   "metadata": {},
   "outputs": [],
   "source": []
  }
 ],
 "metadata": {
  "kernelspec": {
   "display_name": "QuantumV2",
   "language": "python",
   "name": "python3"
  },
  "language_info": {
   "codemirror_mode": {
    "name": "ipython",
    "version": 3
   },
   "file_extension": ".py",
   "mimetype": "text/x-python",
   "name": "python",
   "nbconvert_exporter": "python",
   "pygments_lexer": "ipython3",
   "version": "3.9.19"
  }
 },
 "nbformat": 4,
 "nbformat_minor": 2
}
